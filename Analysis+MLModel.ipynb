{
 "cells": [
  {
   "cell_type": "markdown",
   "id": "0f08ffe7",
   "metadata": {},
   "source": [
    "## Preprocessing and Fetching"
   ]
  },
  {
   "cell_type": "code",
   "execution_count": 1,
   "id": "ae281058",
   "metadata": {},
   "outputs": [],
   "source": [
    "import pandas as pd\n",
    "\n",
    "#Load files\n",
    "content = pd.read_csv('Content.csv')\n",
    "cities = pd.read_csv('Cities.csv')\n",
    "date = pd.read_csv('Date.csv')\n",
    "source = pd.read_csv('Traffic source.csv')"
   ]
  },
  {
   "cell_type": "code",
   "execution_count": 2,
   "id": "daaabe53",
   "metadata": {},
   "outputs": [],
   "source": [
    "#Remove first row (totals)\n",
    "content = content.iloc[1:]\n",
    "cities = cities.iloc[1:]\n",
    "date = date.iloc[1:]\n",
    "source = source.iloc[1:]"
   ]
  },
  {
   "cell_type": "code",
   "execution_count": 3,
   "id": "ad0d6b4a",
   "metadata": {},
   "outputs": [],
   "source": [
    "# Datetime\n",
    "content['Video publish time'] = pd.to_datetime(content['Video publish time'])\n",
    "content['Duration'] = pd.to_timedelta(content['Duration'], unit='s')\n",
    "content['Watch time (hours)'] = pd.to_timedelta(content['Watch time (hours)'], unit='h')\n",
    "content['Average view duration'] = pd.to_timedelta(content['Average view duration'])\n",
    "content['Impressions click-through rate (%)'] = content['Impressions click-through rate (%)'] / 100\n",
    "content.rename(columns={'Impressions click-through rate (%)': 'Impressions CTR'}, inplace=True)"
   ]
  },
  {
   "cell_type": "code",
   "execution_count": 4,
   "id": "c336a7ef",
   "metadata": {},
   "outputs": [],
   "source": [
    "date['Date'] = pd.to_datetime(date['Date'])\n",
    "date['Watch time (hours)'] = pd.to_timedelta(date['Watch time (hours)'], unit='h')\n",
    "date['Average view duration'] = pd.to_timedelta(date['Average view duration'])\n",
    "\n",
    "cities['Watch time (hours)'] = pd.to_timedelta(cities['Watch time (hours)'], unit='h')\n",
    "cities['Average view duration'] = pd.to_timedelta(cities['Average view duration'])\n",
    "\n",
    "source['Watch time (hours)'] = pd.to_timedelta(source['Watch time (hours)'], unit='h')\n",
    "source['Average view duration'] = pd.to_timedelta(source['Average view duration'])"
   ]
  },
  {
   "cell_type": "code",
   "execution_count": 5,
   "id": "2086d617",
   "metadata": {},
   "outputs": [
    {
     "name": "stdout",
     "output_type": "stream",
     "text": [
      "       Content                                        Video title  \\\n",
      "1  9rU6Jf1EpLg  I LOVE the new Jinx design #shorts #arcane #le...   \n",
      "2  RhvaJIXedtY  Season 2 Vi is 🥵🥵🥵🥵 #shorts  #arcane #leagueof...   \n",
      "3  B0MKg88uE1g  Maddie makes me 😡😡🤬😠 #arcane #leagueoflegends ...   \n",
      "4  Mk0-nA1Vad8  The most UNDERRATED enforcer #arcane #leagueof...   \n",
      "5  f40T4AbyJiI  Arcane's time travel explained! #arcane #leagu...   \n",
      "\n",
      "  Video publish time        Duration      Views          Watch time (hours)  \\\n",
      "1         2024-09-09 0 days 00:00:31  1348535.0 419 days 22:19:58.439999996   \n",
      "2         2024-09-22 0 days 00:00:32   735917.0    216 days 00:57:31.320000   \n",
      "3         2024-11-27 0 days 00:00:23   638341.0    189 days 13:29:33.360000   \n",
      "4         2024-11-28 0 days 00:00:29   587002.0    200 days 23:41:38.400000   \n",
      "5         2024-11-25 0 days 00:00:26   546862.0    216 days 13:29:51.720000   \n",
      "\n",
      "   Subscribers Average view duration  Impressions  Impressions CTR  \n",
      "1        604.0       0 days 00:00:26     12336850           0.0746  \n",
      "2        709.0       0 days 00:00:25      6137555           0.0701  \n",
      "3        173.0       0 days 00:00:25      4046557           0.0758  \n",
      "4        129.0       0 days 00:00:29      1703376           0.0711  \n",
      "5        114.0       0 days 00:00:34       176044           0.0436  \n"
     ]
    }
   ],
   "source": [
    "print(content.head())"
   ]
  },
  {
   "cell_type": "markdown",
   "id": "a946387c",
   "metadata": {},
   "source": [
    "# Statistical Testing"
   ]
  },
  {
   "cell_type": "markdown",
   "id": "8763fe45",
   "metadata": {},
   "source": [
    "**Anova Test on Importance of Publishing Date and Runtime**"
   ]
  },
  {
   "cell_type": "code",
   "execution_count": null,
   "id": "ead9a802",
   "metadata": {},
   "outputs": [],
   "source": [
    "# Convert time to datetime seconds\n",
    "content['Duration_sec'] = content['Duration'].dt.total_seconds()\n",
    "\n",
    "# Define bins for video length\n",
    "bins_runtime = [0, 30, 60, float('inf')]\n",
    "labels_runtime = ['Short', 'Medium', 'Long']\n",
    "content['Runtime_Category'] = pd.cut(content['Duration_sec'], bins=bins_runtime, labels=labels_runtime)\n",
    "\n",
    "# Categorize publishing day according to days of the week (0 = Monday, 6 = Sunday)\n",
    "content['Publish_Day'] = content['Video publish time'].dt.day_name()"
   ]
  },
  {
   "cell_type": "code",
   "execution_count": null,
   "id": "5accce0f",
   "metadata": {},
   "outputs": [
    {
     "name": "stdout",
     "output_type": "stream",
     "text": [
      "                                          sum_sq     df          F  \\\n",
      "C(Runtime_Category)                 6.139887e+11    2.0  21.666612   \n",
      "C(Publish_Day)                      1.162959e+11    6.0   1.367962   \n",
      "C(Runtime_Category):C(Publish_Day)  3.411711e+11   12.0   2.006558   \n",
      "Residual                            2.989660e+12  211.0        NaN   \n",
      "\n",
      "                                          PR(>F)  \n",
      "C(Runtime_Category)                 2.765491e-09  \n",
      "C(Publish_Day)                      2.288752e-01  \n",
      "C(Runtime_Category):C(Publish_Day)  2.502329e-02  \n",
      "Residual                                     NaN  \n"
     ]
    }
   ],
   "source": [
    "import statsmodels.api as sm\n",
    "from statsmodels.formula.api import ols\n",
    "\n",
    "# Drop rows with missing values\n",
    "anova_data = content.dropna(subset=['Views', 'Runtime_Category', 'Publish_Day'])\n",
    "\n",
    "# Run two-way anova on runtime and publish day\n",
    "model = ols('Views ~ C(Runtime_Category) + C(Publish_Day) + C(Runtime_Category):C(Publish_Day)', data=anova_data).fit()\n",
    "anova_table = sm.stats.anova_lm(model, typ=2)\n",
    "\n",
    "print(anova_table)"
   ]
  },
  {
   "cell_type": "markdown",
   "id": "ecd51d9b",
   "metadata": {},
   "source": [
    "- According to their respective p-values, runtime had a statistically significant affect on view-count, whereas the publishing date did not"
   ]
  },
  {
   "cell_type": "markdown",
   "id": "df7e35fc",
   "metadata": {},
   "source": [
    "**Z-Test on Importance of Runtime by Category**"
   ]
  },
  {
   "cell_type": "code",
   "execution_count": null,
   "id": "55b51a78",
   "metadata": {},
   "outputs": [
    {
     "name": "stdout",
     "output_type": "stream",
     "text": [
      "Average Z-Score of Views per Runtime Category:\n",
      "Runtime_Category\n",
      "Medium    0.525609\n",
      "Short     0.437280\n",
      "Long     -0.344424\n",
      "Name: Views_Z, dtype: float64\n"
     ]
    },
    {
     "name": "stderr",
     "output_type": "stream",
     "text": [
      "C:\\Users\\aouzu\\AppData\\Local\\Temp\\ipykernel_33436\\2029848152.py:7: SettingWithCopyWarning: \n",
      "A value is trying to be set on a copy of a slice from a DataFrame.\n",
      "Try using .loc[row_indexer,col_indexer] = value instead\n",
      "\n",
      "See the caveats in the documentation: https://pandas.pydata.org/pandas-docs/stable/user_guide/indexing.html#returning-a-view-versus-a-copy\n",
      "  normalized_data['Views_Z'] = zscore(normalized_data['Views'])\n",
      "C:\\Users\\aouzu\\AppData\\Local\\Temp\\ipykernel_33436\\2029848152.py:10: FutureWarning: The default of observed=False is deprecated and will be changed to True in a future version of pandas. Pass observed=False to retain current behavior or observed=True to adopt the future default and silence this warning.\n",
      "  avg_zscores = normalized_data.groupby('Runtime_Category')['Views_Z'].mean().sort_values(ascending=False)\n"
     ]
    }
   ],
   "source": [
    "from scipy.stats import zscore\n",
    "\n",
    "# Drop missing values\n",
    "normalized_data = content.dropna(subset=['Views', 'Runtime_Category'])\n",
    "\n",
    "# Normalize viewcounts with z-score\n",
    "normalized_data['Views_Z'] = zscore(normalized_data['Views'])\n",
    "\n",
    "# Group by runtime category and calculate average z-scores\n",
    "avg_zscores = normalized_data.groupby('Runtime_Category')['Views_Z'].mean().sort_values(ascending=False)\n",
    "\n",
    "print(\"Average Z-Score of Views per Runtime Category:\")\n",
    "print(avg_zscores)"
   ]
  },
  {
   "cell_type": "markdown",
   "id": "a169e467",
   "metadata": {},
   "source": [
    "- Further analysis of runtime has shown that that a medium runtime of 30-60 seconds had the most postiive affect on view-count"
   ]
  },
  {
   "cell_type": "markdown",
   "id": "bd456705",
   "metadata": {},
   "source": [
    "**Tests on Correlation between City and Views**"
   ]
  },
  {
   "cell_type": "code",
   "execution_count": null,
   "id": "d61151f5",
   "metadata": {},
   "outputs": [],
   "source": [
    "cities_clean = cities.dropna(subset=['City name', 'Views', 'Average view duration']).copy()\n",
    "cities_clean['Views'] = pd.to_numeric(cities_clean['Views'], errors='coerce')\n",
    "\n",
    "# Normalize with z-scores\n",
    "cities_clean['Views_Z'] = zscore(cities_clean['Views'])\n",
    "\n",
    "# Bin into 4 quartile categories based on z-score ranks\n",
    "cities_clean['Views_Quartile'] = pd.qcut(cities_clean['Views_Z'], 4, labels=['Q1', 'Q2', 'Q3', 'Q4'])  # Q1 = lowest views"
   ]
  },
  {
   "cell_type": "code",
   "execution_count": null,
   "id": "f19de996",
   "metadata": {},
   "outputs": [
    {
     "name": "stdout",
     "output_type": "stream",
     "text": [
      "Views Quartile vs City: χ² = 1500.0000, p = 0.47330172\n"
     ]
    }
   ],
   "source": [
    "from scipy.stats import chi2_contingency\n",
    "\n",
    "# Contingency table for Chi^2 test\n",
    "views_table = pd.crosstab(cities_clean['City name'], cities_clean['Views_Quartile'])\n",
    "\n",
    "# Chi-square test\n",
    "chi2_v, p_v, dof_v, _ = chi2_contingency(views_table)\n",
    "print(f\"Views Quartile vs City: χ² = {chi2_v:.4f}, p = {p_v:.8g}\")"
   ]
  },
  {
   "cell_type": "markdown",
   "id": "8e4ed7b7",
   "metadata": {},
   "source": [
    "- The resulting p value shows that city has no statistically significant affect on view-count, and we don't necessarily have to appeal to any geographic location in particular"
   ]
  },
  {
   "cell_type": "markdown",
   "id": "f2cb6e55",
   "metadata": {},
   "source": [
    "**Exploring the effects of hashtags**"
   ]
  },
  {
   "cell_type": "code",
   "execution_count": 11,
   "id": "e4e76505",
   "metadata": {},
   "outputs": [],
   "source": [
    "import re\n",
    "content['Hashtags_List'] = content['Video title'].str.findall(r'#\\w+')"
   ]
  },
  {
   "cell_type": "code",
   "execution_count": null,
   "id": "d7402811",
   "metadata": {},
   "outputs": [],
   "source": [
    "# Extract video hashtags\n",
    "content['Hashtags_List'] = content['Video title'].str.findall(r'#\\w+')\n",
    "\n",
    "# Explode to get one row for each hashtag\n",
    "hashtag_df = content.explode('Hashtags_List').dropna(subset=['Hashtags_List', 'Views'])\n",
    "\n",
    "# Remove invalid entries\n",
    "hashtag_df['Views'] = pd.to_numeric(hashtag_df['Views'], errors='coerce')"
   ]
  },
  {
   "cell_type": "code",
   "execution_count": 13,
   "id": "5647ed16",
   "metadata": {},
   "outputs": [],
   "source": [
    "# Count appearances and average views\n",
    "hashtag_stats = hashtag_df.groupby('Hashtags_List').agg(\n",
    "    count=('Views', 'count'),\n",
    "    avg_views=('Views', 'mean'),\n",
    "    std_views=('Views', 'std')\n",
    ")"
   ]
  },
  {
   "cell_type": "code",
   "execution_count": null,
   "id": "87a3fc6d",
   "metadata": {},
   "outputs": [],
   "source": [
    "# Normalize data to account for outliers\n",
    "hashtag_stats['normalized_score'] = hashtag_stats['avg_views'] / np.log1p(hashtag_stats['count'])"
   ]
  },
  {
   "cell_type": "code",
   "execution_count": 15,
   "id": "b5527727",
   "metadata": {},
   "outputs": [
    {
     "name": "stdout",
     "output_type": "stream",
     "text": [
      "                  count      avg_views      std_views  normalized_score\n",
      "Hashtags_List                                                          \n",
      "#leagueoflegends     57  142112.421053  230355.702197      34999.240399\n",
      "#shorts              74  140910.905405  205691.791390      32637.242234\n",
      "#arctober            28   88179.678571  100329.859598      26187.089886\n",
      "#arcane              96  118157.343750  188802.478099      25828.373487\n",
      "#arcanefics           2   10195.000000    5730.393355       9279.888915\n",
      "#riotgames            2   10195.000000    5730.393355       9279.888915\n"
     ]
    }
   ],
   "source": [
    "# Sort by normalized impact\n",
    "top_tags = hashtag_stats.sort_values('normalized_score', ascending=False)\n",
    "print(top_tags.head(10))"
   ]
  },
  {
   "cell_type": "markdown",
   "id": "71688d8f",
   "metadata": {},
   "source": [
    "- Even after normalizaiton, the most affective hashtag at garnering views was #leagueoflegends\n",
    "- Shorts should thereby have this hashtag by default whenever possible"
   ]
  },
  {
   "cell_type": "markdown",
   "id": "341be25b",
   "metadata": {},
   "source": [
    "## Machine Learning Model"
   ]
  },
  {
   "cell_type": "code",
   "execution_count": 16,
   "id": "e17a4983",
   "metadata": {},
   "outputs": [],
   "source": [
    "from sklearn.tree import DecisionTreeClassifier, plot_tree\n",
    "from sklearn.model_selection import train_test_split\n",
    "from sklearn.metrics import classification_report\n",
    "import matplotlib.pyplot as plt"
   ]
  },
  {
   "cell_type": "code",
   "execution_count": null,
   "id": "225a6fd4",
   "metadata": {},
   "outputs": [],
   "source": [
    "df = content.copy()\n",
    "\n",
    "# Drop na or invalid entries\n",
    "df = df[pd.to_numeric(df['Views'], errors='coerce').notna()].copy()\n",
    "df['Views'] = df['Views'].astype(float)\n",
    "views_z = zscore(df['Views'])"
   ]
  },
  {
   "cell_type": "code",
   "execution_count": 49,
   "id": "04b119b6",
   "metadata": {},
   "outputs": [],
   "source": [
    "view_level = pd.qcut(\n",
    "    df['Views'].astype(float), \n",
    "    q=3, \n",
    "    labels=['Low', 'Medium', 'High']\n",
    ")\n"
   ]
  },
  {
   "cell_type": "code",
   "execution_count": 50,
   "id": "46316b8c",
   "metadata": {},
   "outputs": [
    {
     "data": {
      "text/plain": [
       "Index(['Content', 'Video title', 'Video publish time', 'Duration', 'Views',\n",
       "       'Watch time (hours)', 'Subscribers', 'Average view duration',\n",
       "       'Impressions', 'Impressions CTR', 'Duration_sec', 'Runtime_Category',\n",
       "       'Publish_Day', 'Hashtags_List'],\n",
       "      dtype='object')"
      ]
     },
     "execution_count": 50,
     "metadata": {},
     "output_type": "execute_result"
    }
   ],
   "source": [
    "df.columns"
   ]
  },
  {
   "cell_type": "code",
   "execution_count": null,
   "id": "0522183c",
   "metadata": {},
   "outputs": [],
   "source": [
    "# Set up random forest model\n",
    "model_df = pd.DataFrame({\n",
    "    'Duration_sec': df['Duration_sec'],\n",
    "    'Watchtime': df['Watch time (hours)'].dt.total_seconds() / 3600,\n",
    "    'Impressions': df['Impressions CTR'],\n",
    "    'view_level': view_level\n",
    "})\n",
    "\n",
    "\n",
    "model_df.dropna(inplace=True)"
   ]
  },
  {
   "cell_type": "code",
   "execution_count": null,
   "id": "407eac70",
   "metadata": {},
   "outputs": [],
   "source": [
    "# Set independent and dependent variables\n",
    "X = model_df[['Duration_sec', 'Watchtime', 'Impressions']]\n",
    "y = model_df['view_level']"
   ]
  },
  {
   "cell_type": "code",
   "execution_count": null,
   "id": "92b21b3e",
   "metadata": {},
   "outputs": [],
   "source": [
    "# Set train test split\n",
    "X_train, X_test, y_train, y_test = train_test_split(X, y, test_size=0.15, random_state=42)"
   ]
  },
  {
   "cell_type": "code",
   "execution_count": 60,
   "id": "6dd218ca",
   "metadata": {},
   "outputs": [
    {
     "data": {
      "text/html": [
       "<style>#sk-container-id-7 {\n",
       "  /* Definition of color scheme common for light and dark mode */\n",
       "  --sklearn-color-text: black;\n",
       "  --sklearn-color-line: gray;\n",
       "  /* Definition of color scheme for unfitted estimators */\n",
       "  --sklearn-color-unfitted-level-0: #fff5e6;\n",
       "  --sklearn-color-unfitted-level-1: #f6e4d2;\n",
       "  --sklearn-color-unfitted-level-2: #ffe0b3;\n",
       "  --sklearn-color-unfitted-level-3: chocolate;\n",
       "  /* Definition of color scheme for fitted estimators */\n",
       "  --sklearn-color-fitted-level-0: #f0f8ff;\n",
       "  --sklearn-color-fitted-level-1: #d4ebff;\n",
       "  --sklearn-color-fitted-level-2: #b3dbfd;\n",
       "  --sklearn-color-fitted-level-3: cornflowerblue;\n",
       "\n",
       "  /* Specific color for light theme */\n",
       "  --sklearn-color-text-on-default-background: var(--sg-text-color, var(--theme-code-foreground, var(--jp-content-font-color1, black)));\n",
       "  --sklearn-color-background: var(--sg-background-color, var(--theme-background, var(--jp-layout-color0, white)));\n",
       "  --sklearn-color-border-box: var(--sg-text-color, var(--theme-code-foreground, var(--jp-content-font-color1, black)));\n",
       "  --sklearn-color-icon: #696969;\n",
       "\n",
       "  @media (prefers-color-scheme: dark) {\n",
       "    /* Redefinition of color scheme for dark theme */\n",
       "    --sklearn-color-text-on-default-background: var(--sg-text-color, var(--theme-code-foreground, var(--jp-content-font-color1, white)));\n",
       "    --sklearn-color-background: var(--sg-background-color, var(--theme-background, var(--jp-layout-color0, #111)));\n",
       "    --sklearn-color-border-box: var(--sg-text-color, var(--theme-code-foreground, var(--jp-content-font-color1, white)));\n",
       "    --sklearn-color-icon: #878787;\n",
       "  }\n",
       "}\n",
       "\n",
       "#sk-container-id-7 {\n",
       "  color: var(--sklearn-color-text);\n",
       "}\n",
       "\n",
       "#sk-container-id-7 pre {\n",
       "  padding: 0;\n",
       "}\n",
       "\n",
       "#sk-container-id-7 input.sk-hidden--visually {\n",
       "  border: 0;\n",
       "  clip: rect(1px 1px 1px 1px);\n",
       "  clip: rect(1px, 1px, 1px, 1px);\n",
       "  height: 1px;\n",
       "  margin: -1px;\n",
       "  overflow: hidden;\n",
       "  padding: 0;\n",
       "  position: absolute;\n",
       "  width: 1px;\n",
       "}\n",
       "\n",
       "#sk-container-id-7 div.sk-dashed-wrapped {\n",
       "  border: 1px dashed var(--sklearn-color-line);\n",
       "  margin: 0 0.4em 0.5em 0.4em;\n",
       "  box-sizing: border-box;\n",
       "  padding-bottom: 0.4em;\n",
       "  background-color: var(--sklearn-color-background);\n",
       "}\n",
       "\n",
       "#sk-container-id-7 div.sk-container {\n",
       "  /* jupyter's `normalize.less` sets `[hidden] { display: none; }`\n",
       "     but bootstrap.min.css set `[hidden] { display: none !important; }`\n",
       "     so we also need the `!important` here to be able to override the\n",
       "     default hidden behavior on the sphinx rendered scikit-learn.org.\n",
       "     See: https://github.com/scikit-learn/scikit-learn/issues/21755 */\n",
       "  display: inline-block !important;\n",
       "  position: relative;\n",
       "}\n",
       "\n",
       "#sk-container-id-7 div.sk-text-repr-fallback {\n",
       "  display: none;\n",
       "}\n",
       "\n",
       "div.sk-parallel-item,\n",
       "div.sk-serial,\n",
       "div.sk-item {\n",
       "  /* draw centered vertical line to link estimators */\n",
       "  background-image: linear-gradient(var(--sklearn-color-text-on-default-background), var(--sklearn-color-text-on-default-background));\n",
       "  background-size: 2px 100%;\n",
       "  background-repeat: no-repeat;\n",
       "  background-position: center center;\n",
       "}\n",
       "\n",
       "/* Parallel-specific style estimator block */\n",
       "\n",
       "#sk-container-id-7 div.sk-parallel-item::after {\n",
       "  content: \"\";\n",
       "  width: 100%;\n",
       "  border-bottom: 2px solid var(--sklearn-color-text-on-default-background);\n",
       "  flex-grow: 1;\n",
       "}\n",
       "\n",
       "#sk-container-id-7 div.sk-parallel {\n",
       "  display: flex;\n",
       "  align-items: stretch;\n",
       "  justify-content: center;\n",
       "  background-color: var(--sklearn-color-background);\n",
       "  position: relative;\n",
       "}\n",
       "\n",
       "#sk-container-id-7 div.sk-parallel-item {\n",
       "  display: flex;\n",
       "  flex-direction: column;\n",
       "}\n",
       "\n",
       "#sk-container-id-7 div.sk-parallel-item:first-child::after {\n",
       "  align-self: flex-end;\n",
       "  width: 50%;\n",
       "}\n",
       "\n",
       "#sk-container-id-7 div.sk-parallel-item:last-child::after {\n",
       "  align-self: flex-start;\n",
       "  width: 50%;\n",
       "}\n",
       "\n",
       "#sk-container-id-7 div.sk-parallel-item:only-child::after {\n",
       "  width: 0;\n",
       "}\n",
       "\n",
       "/* Serial-specific style estimator block */\n",
       "\n",
       "#sk-container-id-7 div.sk-serial {\n",
       "  display: flex;\n",
       "  flex-direction: column;\n",
       "  align-items: center;\n",
       "  background-color: var(--sklearn-color-background);\n",
       "  padding-right: 1em;\n",
       "  padding-left: 1em;\n",
       "}\n",
       "\n",
       "\n",
       "/* Toggleable style: style used for estimator/Pipeline/ColumnTransformer box that is\n",
       "clickable and can be expanded/collapsed.\n",
       "- Pipeline and ColumnTransformer use this feature and define the default style\n",
       "- Estimators will overwrite some part of the style using the `sk-estimator` class\n",
       "*/\n",
       "\n",
       "/* Pipeline and ColumnTransformer style (default) */\n",
       "\n",
       "#sk-container-id-7 div.sk-toggleable {\n",
       "  /* Default theme specific background. It is overwritten whether we have a\n",
       "  specific estimator or a Pipeline/ColumnTransformer */\n",
       "  background-color: var(--sklearn-color-background);\n",
       "}\n",
       "\n",
       "/* Toggleable label */\n",
       "#sk-container-id-7 label.sk-toggleable__label {\n",
       "  cursor: pointer;\n",
       "  display: block;\n",
       "  width: 100%;\n",
       "  margin-bottom: 0;\n",
       "  padding: 0.5em;\n",
       "  box-sizing: border-box;\n",
       "  text-align: center;\n",
       "}\n",
       "\n",
       "#sk-container-id-7 label.sk-toggleable__label-arrow:before {\n",
       "  /* Arrow on the left of the label */\n",
       "  content: \"▸\";\n",
       "  float: left;\n",
       "  margin-right: 0.25em;\n",
       "  color: var(--sklearn-color-icon);\n",
       "}\n",
       "\n",
       "#sk-container-id-7 label.sk-toggleable__label-arrow:hover:before {\n",
       "  color: var(--sklearn-color-text);\n",
       "}\n",
       "\n",
       "/* Toggleable content - dropdown */\n",
       "\n",
       "#sk-container-id-7 div.sk-toggleable__content {\n",
       "  max-height: 0;\n",
       "  max-width: 0;\n",
       "  overflow: hidden;\n",
       "  text-align: left;\n",
       "  /* unfitted */\n",
       "  background-color: var(--sklearn-color-unfitted-level-0);\n",
       "}\n",
       "\n",
       "#sk-container-id-7 div.sk-toggleable__content.fitted {\n",
       "  /* fitted */\n",
       "  background-color: var(--sklearn-color-fitted-level-0);\n",
       "}\n",
       "\n",
       "#sk-container-id-7 div.sk-toggleable__content pre {\n",
       "  margin: 0.2em;\n",
       "  border-radius: 0.25em;\n",
       "  color: var(--sklearn-color-text);\n",
       "  /* unfitted */\n",
       "  background-color: var(--sklearn-color-unfitted-level-0);\n",
       "}\n",
       "\n",
       "#sk-container-id-7 div.sk-toggleable__content.fitted pre {\n",
       "  /* unfitted */\n",
       "  background-color: var(--sklearn-color-fitted-level-0);\n",
       "}\n",
       "\n",
       "#sk-container-id-7 input.sk-toggleable__control:checked~div.sk-toggleable__content {\n",
       "  /* Expand drop-down */\n",
       "  max-height: 200px;\n",
       "  max-width: 100%;\n",
       "  overflow: auto;\n",
       "}\n",
       "\n",
       "#sk-container-id-7 input.sk-toggleable__control:checked~label.sk-toggleable__label-arrow:before {\n",
       "  content: \"▾\";\n",
       "}\n",
       "\n",
       "/* Pipeline/ColumnTransformer-specific style */\n",
       "\n",
       "#sk-container-id-7 div.sk-label input.sk-toggleable__control:checked~label.sk-toggleable__label {\n",
       "  color: var(--sklearn-color-text);\n",
       "  background-color: var(--sklearn-color-unfitted-level-2);\n",
       "}\n",
       "\n",
       "#sk-container-id-7 div.sk-label.fitted input.sk-toggleable__control:checked~label.sk-toggleable__label {\n",
       "  background-color: var(--sklearn-color-fitted-level-2);\n",
       "}\n",
       "\n",
       "/* Estimator-specific style */\n",
       "\n",
       "/* Colorize estimator box */\n",
       "#sk-container-id-7 div.sk-estimator input.sk-toggleable__control:checked~label.sk-toggleable__label {\n",
       "  /* unfitted */\n",
       "  background-color: var(--sklearn-color-unfitted-level-2);\n",
       "}\n",
       "\n",
       "#sk-container-id-7 div.sk-estimator.fitted input.sk-toggleable__control:checked~label.sk-toggleable__label {\n",
       "  /* fitted */\n",
       "  background-color: var(--sklearn-color-fitted-level-2);\n",
       "}\n",
       "\n",
       "#sk-container-id-7 div.sk-label label.sk-toggleable__label,\n",
       "#sk-container-id-7 div.sk-label label {\n",
       "  /* The background is the default theme color */\n",
       "  color: var(--sklearn-color-text-on-default-background);\n",
       "}\n",
       "\n",
       "/* On hover, darken the color of the background */\n",
       "#sk-container-id-7 div.sk-label:hover label.sk-toggleable__label {\n",
       "  color: var(--sklearn-color-text);\n",
       "  background-color: var(--sklearn-color-unfitted-level-2);\n",
       "}\n",
       "\n",
       "/* Label box, darken color on hover, fitted */\n",
       "#sk-container-id-7 div.sk-label.fitted:hover label.sk-toggleable__label.fitted {\n",
       "  color: var(--sklearn-color-text);\n",
       "  background-color: var(--sklearn-color-fitted-level-2);\n",
       "}\n",
       "\n",
       "/* Estimator label */\n",
       "\n",
       "#sk-container-id-7 div.sk-label label {\n",
       "  font-family: monospace;\n",
       "  font-weight: bold;\n",
       "  display: inline-block;\n",
       "  line-height: 1.2em;\n",
       "}\n",
       "\n",
       "#sk-container-id-7 div.sk-label-container {\n",
       "  text-align: center;\n",
       "}\n",
       "\n",
       "/* Estimator-specific */\n",
       "#sk-container-id-7 div.sk-estimator {\n",
       "  font-family: monospace;\n",
       "  border: 1px dotted var(--sklearn-color-border-box);\n",
       "  border-radius: 0.25em;\n",
       "  box-sizing: border-box;\n",
       "  margin-bottom: 0.5em;\n",
       "  /* unfitted */\n",
       "  background-color: var(--sklearn-color-unfitted-level-0);\n",
       "}\n",
       "\n",
       "#sk-container-id-7 div.sk-estimator.fitted {\n",
       "  /* fitted */\n",
       "  background-color: var(--sklearn-color-fitted-level-0);\n",
       "}\n",
       "\n",
       "/* on hover */\n",
       "#sk-container-id-7 div.sk-estimator:hover {\n",
       "  /* unfitted */\n",
       "  background-color: var(--sklearn-color-unfitted-level-2);\n",
       "}\n",
       "\n",
       "#sk-container-id-7 div.sk-estimator.fitted:hover {\n",
       "  /* fitted */\n",
       "  background-color: var(--sklearn-color-fitted-level-2);\n",
       "}\n",
       "\n",
       "/* Specification for estimator info (e.g. \"i\" and \"?\") */\n",
       "\n",
       "/* Common style for \"i\" and \"?\" */\n",
       "\n",
       ".sk-estimator-doc-link,\n",
       "a:link.sk-estimator-doc-link,\n",
       "a:visited.sk-estimator-doc-link {\n",
       "  float: right;\n",
       "  font-size: smaller;\n",
       "  line-height: 1em;\n",
       "  font-family: monospace;\n",
       "  background-color: var(--sklearn-color-background);\n",
       "  border-radius: 1em;\n",
       "  height: 1em;\n",
       "  width: 1em;\n",
       "  text-decoration: none !important;\n",
       "  margin-left: 1ex;\n",
       "  /* unfitted */\n",
       "  border: var(--sklearn-color-unfitted-level-1) 1pt solid;\n",
       "  color: var(--sklearn-color-unfitted-level-1);\n",
       "}\n",
       "\n",
       ".sk-estimator-doc-link.fitted,\n",
       "a:link.sk-estimator-doc-link.fitted,\n",
       "a:visited.sk-estimator-doc-link.fitted {\n",
       "  /* fitted */\n",
       "  border: var(--sklearn-color-fitted-level-1) 1pt solid;\n",
       "  color: var(--sklearn-color-fitted-level-1);\n",
       "}\n",
       "\n",
       "/* On hover */\n",
       "div.sk-estimator:hover .sk-estimator-doc-link:hover,\n",
       ".sk-estimator-doc-link:hover,\n",
       "div.sk-label-container:hover .sk-estimator-doc-link:hover,\n",
       ".sk-estimator-doc-link:hover {\n",
       "  /* unfitted */\n",
       "  background-color: var(--sklearn-color-unfitted-level-3);\n",
       "  color: var(--sklearn-color-background);\n",
       "  text-decoration: none;\n",
       "}\n",
       "\n",
       "div.sk-estimator.fitted:hover .sk-estimator-doc-link.fitted:hover,\n",
       ".sk-estimator-doc-link.fitted:hover,\n",
       "div.sk-label-container:hover .sk-estimator-doc-link.fitted:hover,\n",
       ".sk-estimator-doc-link.fitted:hover {\n",
       "  /* fitted */\n",
       "  background-color: var(--sklearn-color-fitted-level-3);\n",
       "  color: var(--sklearn-color-background);\n",
       "  text-decoration: none;\n",
       "}\n",
       "\n",
       "/* Span, style for the box shown on hovering the info icon */\n",
       ".sk-estimator-doc-link span {\n",
       "  display: none;\n",
       "  z-index: 9999;\n",
       "  position: relative;\n",
       "  font-weight: normal;\n",
       "  right: .2ex;\n",
       "  padding: .5ex;\n",
       "  margin: .5ex;\n",
       "  width: min-content;\n",
       "  min-width: 20ex;\n",
       "  max-width: 50ex;\n",
       "  color: var(--sklearn-color-text);\n",
       "  box-shadow: 2pt 2pt 4pt #999;\n",
       "  /* unfitted */\n",
       "  background: var(--sklearn-color-unfitted-level-0);\n",
       "  border: .5pt solid var(--sklearn-color-unfitted-level-3);\n",
       "}\n",
       "\n",
       ".sk-estimator-doc-link.fitted span {\n",
       "  /* fitted */\n",
       "  background: var(--sklearn-color-fitted-level-0);\n",
       "  border: var(--sklearn-color-fitted-level-3);\n",
       "}\n",
       "\n",
       ".sk-estimator-doc-link:hover span {\n",
       "  display: block;\n",
       "}\n",
       "\n",
       "/* \"?\"-specific style due to the `<a>` HTML tag */\n",
       "\n",
       "#sk-container-id-7 a.estimator_doc_link {\n",
       "  float: right;\n",
       "  font-size: 1rem;\n",
       "  line-height: 1em;\n",
       "  font-family: monospace;\n",
       "  background-color: var(--sklearn-color-background);\n",
       "  border-radius: 1rem;\n",
       "  height: 1rem;\n",
       "  width: 1rem;\n",
       "  text-decoration: none;\n",
       "  /* unfitted */\n",
       "  color: var(--sklearn-color-unfitted-level-1);\n",
       "  border: var(--sklearn-color-unfitted-level-1) 1pt solid;\n",
       "}\n",
       "\n",
       "#sk-container-id-7 a.estimator_doc_link.fitted {\n",
       "  /* fitted */\n",
       "  border: var(--sklearn-color-fitted-level-1) 1pt solid;\n",
       "  color: var(--sklearn-color-fitted-level-1);\n",
       "}\n",
       "\n",
       "/* On hover */\n",
       "#sk-container-id-7 a.estimator_doc_link:hover {\n",
       "  /* unfitted */\n",
       "  background-color: var(--sklearn-color-unfitted-level-3);\n",
       "  color: var(--sklearn-color-background);\n",
       "  text-decoration: none;\n",
       "}\n",
       "\n",
       "#sk-container-id-7 a.estimator_doc_link.fitted:hover {\n",
       "  /* fitted */\n",
       "  background-color: var(--sklearn-color-fitted-level-3);\n",
       "}\n",
       "</style><div id=\"sk-container-id-7\" class=\"sk-top-container\"><div class=\"sk-text-repr-fallback\"><pre>DecisionTreeClassifier(max_depth=4, random_state=42)</pre><b>In a Jupyter environment, please rerun this cell to show the HTML representation or trust the notebook. <br />On GitHub, the HTML representation is unable to render, please try loading this page with nbviewer.org.</b></div><div class=\"sk-container\" hidden><div class=\"sk-item\"><div class=\"sk-estimator fitted sk-toggleable\"><input class=\"sk-toggleable__control sk-hidden--visually\" id=\"sk-estimator-id-7\" type=\"checkbox\" checked><label for=\"sk-estimator-id-7\" class=\"sk-toggleable__label fitted sk-toggleable__label-arrow fitted\">&nbsp;&nbsp;DecisionTreeClassifier<a class=\"sk-estimator-doc-link fitted\" rel=\"noreferrer\" target=\"_blank\" href=\"https://scikit-learn.org/1.5/modules/generated/sklearn.tree.DecisionTreeClassifier.html\">?<span>Documentation for DecisionTreeClassifier</span></a><span class=\"sk-estimator-doc-link fitted\">i<span>Fitted</span></span></label><div class=\"sk-toggleable__content fitted\"><pre>DecisionTreeClassifier(max_depth=4, random_state=42)</pre></div> </div></div></div></div>"
      ],
      "text/plain": [
       "DecisionTreeClassifier(max_depth=4, random_state=42)"
      ]
     },
     "execution_count": 60,
     "metadata": {},
     "output_type": "execute_result"
    }
   ],
   "source": [
    "clf = DecisionTreeClassifier(max_depth=4, random_state=42)\n",
    "clf.fit(X_train, y_train)"
   ]
  },
  {
   "cell_type": "code",
   "execution_count": 61,
   "id": "b450f358",
   "metadata": {},
   "outputs": [
    {
     "name": "stdout",
     "output_type": "stream",
     "text": [
      "              precision    recall  f1-score   support\n",
      "\n",
      "        High       1.00      0.92      0.96        12\n",
      "         Low       0.73      1.00      0.85        11\n",
      "      Medium       0.90      0.69      0.78        13\n",
      "\n",
      "    accuracy                           0.86        36\n",
      "   macro avg       0.88      0.87      0.86        36\n",
      "weighted avg       0.88      0.86      0.86        36\n",
      "\n"
     ]
    }
   ],
   "source": [
    "y_pred = clf.predict(X_test)\n",
    "print(classification_report(y_test, y_pred))"
   ]
  },
  {
   "cell_type": "code",
   "execution_count": null,
   "id": "03ef6a5a",
   "metadata": {},
   "outputs": [
    {
     "data": {
      "image/png": "[encoded data removed]",
      "text/plain": [
       "<Figure size 1200x600 with 1 Axes>"
      ]
     },
     "metadata": {},
     "output_type": "display_data"
    }
   ],
   "source": [
    "# Plot generated tree\n",
    "plt.figure(figsize=(12, 6))\n",
    "plot_tree(clf, feature_names=X.columns, class_names=['Low', 'Medium', 'High'], filled=True)\n",
    "plt.title(\"Decision Tree Classifier: Predicting Success (According to Views)\")\n",
    "plt.show()"
   ]
  },
  {
   "cell_type": "code",
   "execution_count": null,
   "id": "d9da45e2",
   "metadata": {},
   "outputs": [],
   "source": []
  }
 ],
 "metadata": {
  "kernelspec": {
   "display_name": "base",
   "language": "python",
   "name": "python3"
  },
  "language_info": {
   "codemirror_mode": {
    "name": "ipython",
    "version": 3
   },
   "file_extension": ".py",
   "mimetype": "text/x-python",
   "name": "python",
   "nbconvert_exporter": "python",
   "pygments_lexer": "ipython3",
   "version": "3.12.7"
  }
 },
 "nbformat": 4,
 "nbformat_minor": 5
}
