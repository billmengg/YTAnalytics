{
 "cells": [
  {
   "cell_type": "markdown",
   "id": "0f08ffe7",
   "metadata": {},
   "source": [
    "## Preprocessing and Fetching"
   ]
  },
  {
   "cell_type": "code",
   "execution_count": 4,
   "id": "ae281058",
   "metadata": {},
   "outputs": [],
   "source": [
    "import pandas as pd\n",
    "\n",
    "#Load files\n",
    "content = pd.read_csv('Content.csv')\n",
    "cities = pd.read_csv('Cities.csv')\n",
    "date = pd.read_csv('Date.csv')\n",
    "source = pd.read_csv('Traffic source.csv')"
   ]
  },
  {
   "cell_type": "code",
   "execution_count": 5,
   "id": "daaabe53",
   "metadata": {},
   "outputs": [],
   "source": [
    "#Remove first row (totals)\n",
    "content = content.iloc[1:]\n",
    "cities = cities.iloc[1:]\n",
    "date = date.iloc[1:]\n",
    "source = source.iloc[1:]"
   ]
  },
  {
   "cell_type": "code",
   "execution_count": 6,
   "id": "ad0d6b4a",
   "metadata": {},
   "outputs": [],
   "source": [
    "# Datetime\n",
    "content['Video publish time'] = pd.to_datetime(content['Video publish time'])\n",
    "content['Duration'] = pd.to_timedelta(content['Duration'], unit='s')\n",
    "content['Watch time (hours)'] = pd.to_timedelta(content['Watch time (hours)'], unit='h')\n",
    "content['Average view duration'] = pd.to_timedelta(content['Average view duration'])\n",
    "content['Impressions click-through rate (%)'] = content['Impressions click-through rate (%)'] / 100\n",
    "content.rename(columns={'Impressions click-through rate (%)': 'Impressions CTR'}, inplace=True)"
   ]
  },
  {
   "cell_type": "code",
   "execution_count": 7,
   "id": "c336a7ef",
   "metadata": {},
   "outputs": [],
   "source": [
    "date['Date'] = pd.to_datetime(date['Date'])\n",
    "date['Watch time (hours)'] = pd.to_timedelta(date['Watch time (hours)'], unit='h')\n",
    "date['Average view duration'] = pd.to_timedelta(date['Average view duration'])\n",
    "\n",
    "cities['Watch time (hours)'] = pd.to_timedelta(cities['Watch time (hours)'], unit='h')\n",
    "cities['Average view duration'] = pd.to_timedelta(cities['Average view duration'])\n",
    "\n",
    "source['Watch time (hours)'] = pd.to_timedelta(source['Watch time (hours)'], unit='h')\n",
    "source['Average view duration'] = pd.to_timedelta(source['Average view duration'])"
   ]
  },
  {
   "cell_type": "code",
   "execution_count": 8,
   "id": "2086d617",
   "metadata": {},
   "outputs": [
    {
     "name": "stdout",
     "output_type": "stream",
     "text": [
      "       Content                                        Video title  \\\n",
      "1  9rU6Jf1EpLg  I LOVE the new Jinx design #shorts #arcane #le...   \n",
      "2  RhvaJIXedtY  Season 2 Vi is 🥵🥵🥵🥵 #shorts  #arcane #leagueof...   \n",
      "3  B0MKg88uE1g  Maddie makes me 😡😡🤬😠 #arcane #leagueoflegends ...   \n",
      "4  Mk0-nA1Vad8  The most UNDERRATED enforcer #arcane #leagueof...   \n",
      "5  f40T4AbyJiI  Arcane's time travel explained! #arcane #leagu...   \n",
      "\n",
      "  Video publish time        Duration      Views          Watch time (hours)  \\\n",
      "1         2024-09-09 0 days 00:00:31  1348535.0 419 days 22:19:58.439999996   \n",
      "2         2024-09-22 0 days 00:00:32   735917.0    216 days 00:57:31.320000   \n",
      "3         2024-11-27 0 days 00:00:23   638341.0    189 days 13:29:33.360000   \n",
      "4         2024-11-28 0 days 00:00:29   587002.0    200 days 23:41:38.400000   \n",
      "5         2024-11-25 0 days 00:00:26   546862.0    216 days 13:29:51.720000   \n",
      "\n",
      "   Subscribers Average view duration  Impressions  Impressions CTR  \n",
      "1        604.0       0 days 00:00:26     12336850           0.0746  \n",
      "2        709.0       0 days 00:00:25      6137555           0.0701  \n",
      "3        173.0       0 days 00:00:25      4046557           0.0758  \n",
      "4        129.0       0 days 00:00:29      1703376           0.0711  \n",
      "5        114.0       0 days 00:00:34       176044           0.0436  \n"
     ]
    }
   ],
   "source": [
    "print(content.head())"
   ]
  },
  {
   "cell_type": "markdown",
   "id": "a946387c",
   "metadata": {},
   "source": [
    "# Statistical Testing"
   ]
  },
  {
   "cell_type": "markdown",
   "id": "8763fe45",
   "metadata": {},
   "source": [
    "**Anova Test on Importance of Publishing Date and Runtime**"
   ]
  },
  {
   "cell_type": "code",
   "execution_count": 9,
   "id": "ead9a802",
   "metadata": {},
   "outputs": [],
   "source": [
    "# Convert time to datetime seconds\n",
    "content['Duration_sec'] = content['Duration'].dt.total_seconds()\n",
    "\n",
    "# Define bins for video length\n",
    "bins_runtime = [0, 30, 60, float('inf')]\n",
    "labels_runtime = ['Short', 'Medium', 'Long']\n",
    "content['Runtime_Category'] = pd.cut(content['Duration_sec'], bins=bins_runtime, labels=labels_runtime)\n",
    "\n",
    "# Categorize publishing day according to days of the week (0 = Monday, 6 = Sunday)\n",
    "content['Publish_Day'] = content['Video publish time'].dt.day_name()"
   ]
  },
  {
   "cell_type": "code",
   "execution_count": 10,
   "id": "5accce0f",
   "metadata": {},
   "outputs": [
    {
     "name": "stdout",
     "output_type": "stream",
     "text": [
      "                                          sum_sq     df          F  \\\n",
      "C(Runtime_Category)                 6.139887e+11    2.0  21.666612   \n",
      "C(Publish_Day)                      1.162959e+11    6.0   1.367962   \n",
      "C(Runtime_Category):C(Publish_Day)  3.411711e+11   12.0   2.006558   \n",
      "Residual                            2.989660e+12  211.0        NaN   \n",
      "\n",
      "                                          PR(>F)  \n",
      "C(Runtime_Category)                 2.765491e-09  \n",
      "C(Publish_Day)                      2.288752e-01  \n",
      "C(Runtime_Category):C(Publish_Day)  2.502329e-02  \n",
      "Residual                                     NaN  \n"
     ]
    }
   ],
   "source": [
    "import statsmodels.api as sm\n",
    "from statsmodels.formula.api import ols\n",
    "\n",
    "# Drop rows with missing values\n",
    "anova_data = content.dropna(subset=['Views', 'Runtime_Category', 'Publish_Day'])\n",
    "\n",
    "# Run two-way anova on runtime and publish day\n",
    "model = ols('Views ~ C(Runtime_Category) + C(Publish_Day) + C(Runtime_Category):C(Publish_Day)', data=anova_data).fit()\n",
    "anova_table = sm.stats.anova_lm(model, typ=2)\n",
    "\n",
    "print(anova_table)"
   ]
  },
  {
   "cell_type": "markdown",
   "id": "ecd51d9b",
   "metadata": {},
   "source": [
    "- According to their respective p-values, runtime had a statistically significant affect on view-count, whereas the publishing date did not"
   ]
  },
  {
   "cell_type": "code",
   "execution_count": 11,
   "id": "982a7b69",
   "metadata": {},
   "outputs": [
    {
     "name": "stderr",
     "output_type": "stream",
     "text": [
      "C:\\Users\\William\\AppData\\Local\\Temp\\ipykernel_584492\\2105572615.py:5: FutureWarning: The default of observed=False is deprecated and will be changed to True in a future version of pandas. Pass observed=False to retain current behavior or observed=True to adopt the future default and silence this warning.\n",
      "  mean_views = anova_data.groupby(['Runtime_Category', 'Publish_Day'])['Views'].mean().reset_index()\n"
     ]
    },
    {
     "data": {
      "image/png": "[encoded data removed]",
      "text/plain": [
       "<Figure size 1000x600 with 1 Axes>"
      ]
     },
     "metadata": {},
     "output_type": "display_data"
    }
   ],
   "source": [
    "import matplotlib.pyplot as plt\n",
    "import seaborn as sns\n",
    "\n",
    "# Calculate mean views grouped by Runtime_Category and Publish_Day\n",
    "mean_views = anova_data.groupby(['Runtime_Category', 'Publish_Day'])['Views'].mean().reset_index()\n",
    "\n",
    "# Sort days of the week for proper ordering\n",
    "ordered_days = ['Monday', 'Tuesday', 'Wednesday', 'Thursday', 'Friday', 'Saturday', 'Sunday']\n",
    "mean_views['Publish_Day'] = pd.Categorical(mean_views['Publish_Day'], categories=ordered_days, ordered=True)\n",
    "\n",
    "plt.figure(figsize=(10, 6))\n",
    "sns.lineplot(data=mean_views, x='Publish_Day', y='Views', hue='Runtime_Category', marker='o')\n",
    "plt.title('Interaction Plot: Views by Runtime and Publish Day')\n",
    "plt.ylabel('Average Views')\n",
    "plt.xlabel('Day of the Week')\n",
    "plt.xticks(rotation=45)\n",
    "plt.grid(axis='y', linestyle='--', alpha=0.7)\n",
    "plt.tight_layout()\n",
    "plt.show()\n"
   ]
  },
  {
   "cell_type": "markdown",
   "id": "df7e35fc",
   "metadata": {},
   "source": [
    "**Z-Test on Importance of Runtime by Category**"
   ]
  },
  {
   "cell_type": "code",
   "execution_count": 12,
   "id": "55b51a78",
   "metadata": {},
   "outputs": [
    {
     "name": "stdout",
     "output_type": "stream",
     "text": [
      "Average Z-Score of Views per Runtime Category:\n",
      "Runtime_Category\n",
      "Medium    0.525609\n",
      "Short     0.437280\n",
      "Long     -0.344424\n",
      "Name: Views_Z, dtype: float64\n"
     ]
    },
    {
     "name": "stderr",
     "output_type": "stream",
     "text": [
      "C:\\Users\\William\\AppData\\Local\\Temp\\ipykernel_584492\\1329682029.py:7: SettingWithCopyWarning: \n",
      "A value is trying to be set on a copy of a slice from a DataFrame.\n",
      "Try using .loc[row_indexer,col_indexer] = value instead\n",
      "\n",
      "See the caveats in the documentation: https://pandas.pydata.org/pandas-docs/stable/user_guide/indexing.html#returning-a-view-versus-a-copy\n",
      "  normalized_data['Views_Z'] = zscore(normalized_data['Views'])\n",
      "C:\\Users\\William\\AppData\\Local\\Temp\\ipykernel_584492\\1329682029.py:10: FutureWarning: The default of observed=False is deprecated and will be changed to True in a future version of pandas. Pass observed=False to retain current behavior or observed=True to adopt the future default and silence this warning.\n",
      "  avg_zscores = normalized_data.groupby('Runtime_Category')['Views_Z'].mean().sort_values(ascending=False)\n"
     ]
    }
   ],
   "source": [
    "from scipy.stats import zscore\n",
    "\n",
    "# Drop missing values\n",
    "normalized_data = content.dropna(subset=['Views', 'Runtime_Category'])\n",
    "\n",
    "# Normalize viewcounts with z-score\n",
    "normalized_data['Views_Z'] = zscore(normalized_data['Views'])\n",
    "\n",
    "# Group by runtime category and calculate average z-scores\n",
    "avg_zscores = normalized_data.groupby('Runtime_Category')['Views_Z'].mean().sort_values(ascending=False)\n",
    "\n",
    "print(\"Average Z-Score of Views per Runtime Category:\")\n",
    "print(avg_zscores)"
   ]
  },
  {
   "cell_type": "markdown",
   "id": "a169e467",
   "metadata": {},
   "source": [
    "- Further analysis of runtime has shown that that a medium runtime of 30-60 seconds had the most postiive affect on view-count"
   ]
  },
  {
   "cell_type": "code",
   "execution_count": 13,
   "id": "66458077",
   "metadata": {},
   "outputs": [
    {
     "data": {
      "image/png": "[encoded data removed]",
      "text/plain": [
       "<Figure size 1000x600 with 1 Axes>"
      ]
     },
     "metadata": {},
     "output_type": "display_data"
    }
   ],
   "source": [
    "# Plotting the average Z-scores\n",
    "plt.figure(figsize=(10, 6))\n",
    "avg_zscores.sort_values().plot(kind='barh', color='skyblue')\n",
    "\n",
    "plt.xlabel('Average Z-Score of Views')\n",
    "plt.title('Average Z-Score of Views per Runtime Category')\n",
    "plt.grid(axis='x', linestyle='--', alpha=0.7)\n",
    "plt.tight_layout()\n",
    "plt.show()"
   ]
  },
  {
   "cell_type": "markdown",
   "id": "bd456705",
   "metadata": {},
   "source": [
    "**Tests on Correlation between City and Views**"
   ]
  },
  {
   "cell_type": "code",
   "execution_count": 14,
   "id": "d61151f5",
   "metadata": {},
   "outputs": [],
   "source": [
    "cities_clean = cities.dropna(subset=['City name', 'Views', 'Average view duration']).copy()\n",
    "cities_clean['Views'] = pd.to_numeric(cities_clean['Views'], errors='coerce')\n",
    "\n",
    "# Normalize with z-scores\n",
    "cities_clean['Views_Z'] = zscore(cities_clean['Views'])\n",
    "\n",
    "# Bin into 4 quartile categories based on z-score ranks\n",
    "cities_clean['Views_Quartile'] = pd.qcut(cities_clean['Views_Z'], 4, labels=['Q1', 'Q2', 'Q3', 'Q4'])  # Q1 = lowest views"
   ]
  },
  {
   "cell_type": "code",
   "execution_count": 15,
   "id": "f19de996",
   "metadata": {},
   "outputs": [
    {
     "name": "stdout",
     "output_type": "stream",
     "text": [
      "Views Quartile vs City: χ² = 1500.0000, p = 0.47330172\n"
     ]
    }
   ],
   "source": [
    "from scipy.stats import chi2_contingency\n",
    "\n",
    "# Contingency table for Chi^2 test\n",
    "views_table = pd.crosstab(cities_clean['City name'], cities_clean['Views_Quartile'])\n",
    "\n",
    "# Chi-square test\n",
    "chi2_v, p_v, dof_v, _ = chi2_contingency(views_table)\n",
    "print(f\"Views Quartile vs City: χ² = {chi2_v:.4f}, p = {p_v:.8g}\")"
   ]
  },
  {
   "cell_type": "markdown",
   "id": "8e4ed7b7",
   "metadata": {},
   "source": [
    "- The resulting p value shows that city has no statistically significant affect on view-count, and we don't necessarily have to appeal to any geographic location in particular"
   ]
  },
  {
   "cell_type": "code",
   "execution_count": null,
   "id": "0c90fec2",
   "metadata": {},
   "outputs": [
    {
     "data": {
      "application/vnd.plotly.v1+json": {
       "config": {
        "plotlyServerURL": "https://plot.ly"
       },
       "data": [
        {
         "geo": "geo",
         "hovertemplate": "<b>%{hovertext}</b><br><br>Views=%{marker.color}<br>lat=%{lat}<br>lng=%{lon}<extra></extra>",
         "hovertext": [
          "New York, NY, USA",
          "London, UK",
          "London, UK",
          "London, UK",
          "Los Angeles, CA, USA",
          "Los Angeles, CA, USA",
          "Chicago, IL, USA",
          "Quezon City, Metro Manila, Philippines",
          "Warsaw, Poland",
          "Warsaw, Poland",
          "Toronto, ON, Canada",
          "Houston, TX, USA",
          "Singapore",
          "Moscow, Russia",
          "Moscow, Russia",
          "Seattle, WA, USA",
          "Dallas, TX, USA",
          "Dallas, TX, USA",
          "Dallas, TX, USA",
          "Dallas, TX, USA",
          "Paris, France",
          "Paris, France",
          "Paris, France",
          "Paris, France",
          "Paris, France",
          "Manila, Metro Manila, Philippines",
          "Atlanta, GA, USA",
          "Kuala Lumpur, Federal Territory of Kuala Lumpur, Malaysia",
          "Phoenix, AZ, USA",
          "Jakarta, Indonesia",
          "Ho Chi Minh City, Vietnam",
          "Milan, Metropolitan City of Milan, Italy",
          "Las Vegas, NV, USA",
          "Las Vegas, NV, USA",
          "San Diego, CA, USA",
          "San Diego, CA, USA",
          "San Diego, CA, USA",
          "Calgary, AB, Canada",
          "Austin, TX, USA",
          "Austin, TX, USA",
          "Prague, Czechia",
          "Denver, CO, USA",
          "Dublin, Ireland",
          "Dublin, Ireland",
          "Dublin, Ireland",
          "Dublin, Ireland",
          "Berlin, Germany",
          "Berlin, Germany",
          "Berlin, Germany",
          "Bangkok, Thailand",
          "Montreal, QC, Canada",
          "Philadelphia, PA, USA",
          "Budapest, Hungary",
          "Cebu City,  Cebu, Philippines",
          "San Francisco, CA, USA",
          "San Francisco, CA, USA",
          "San Francisco, CA, USA",
          "San Francisco, CA, USA",
          "San Francisco, CA, USA",
          "San Francisco, CA, USA",
          "San Francisco, CA, USA",
          "San Francisco, CA, USA",
          "San Francisco, CA, USA",
          "San Francisco, CA, USA",
          "Hanoi, Vietnam",
          "Stockholm, Sweden",
          "Santiago, Santiago Metropolitan Region, Chile",
          "Santiago, Santiago Metropolitan Region, Chile",
          "Santiago, Santiago Metropolitan Region, Chile",
          "Santiago, Santiago Metropolitan Region, Chile",
          "Santiago, Santiago Metropolitan Region, Chile",
          "Santiago, Santiago Metropolitan Region, Chile",
          "Santiago, Santiago Metropolitan Region, Chile",
          "Santiago, Santiago Metropolitan Region, Chile",
          "Santiago, Santiago Metropolitan Region, Chile",
          "Santiago, Santiago Metropolitan Region, Chile",
          "Salt Lake City, UT, USA",
          "Salt Lake City, UT, USA",
          "Cape Town, South Africa",
          "Hong Kong",
          "Vienna, Austria",
          "Vienna, Austria",
          "Vienna, Austria",
          "Auckland, New Zealand",
          "Boston, MA, USA",
          "Boston, MA, USA",
          "Boston, MA, USA",
          "San Antonio, TX, USA",
          "San Antonio, TX, USA",
          "San Antonio, TX, USA",
          "San Antonio, TX, USA",
          "San Antonio, TX, USA",
          "San Antonio, TX, USA",
          "San Antonio, TX, USA",
          "San Antonio, TX, USA",
          "San Antonio, TX, USA",
          "San Antonio, TX, USA",
          "San Antonio, TX, USA",
          "Charlotte, NC, USA",
          "Charlotte, NC, USA",
          "Sacramento, CA, USA",
          "Sacramento, CA, USA",
          "Edmonton, AB, Canada",
          "Edmonton, AB, Canada",
          "Bucharest, Romania",
          "Amsterdam, Netherlands",
          "Amsterdam, Netherlands",
          "Copenhagen, Denmark",
          "Orlando, FL, USA",
          "Portland, OR, USA",
          "Portland, OR, USA",
          "Portland, OR, USA",
          "Portland, OR, USA",
          "Portland, OR, USA",
          "Ankara, Türkiye",
          "Minneapolis, MN, USA",
          "Miami, FL, USA",
          "Miami, FL, USA",
          "Mexico City, CDMX, Mexico",
          "San Jose, CA, USA",
          "San Jose, CA, USA",
          "San Jose, CA, USA",
          "San Jose, CA, USA",
          "San Jose, CA, USA",
          "San Jose, CA, USA",
          "San Jose, CA, USA",
          "San Jose, CA, USA",
          "San Jose, CA, USA",
          "San Jose, CA, USA",
          "San Jose, CA, USA",
          "San Jose, CA, USA",
          "San Jose, CA, USA",
          "San Jose, CA, USA",
          "Detroit, MI, USA",
          "Ottawa, ON, Canada",
          "Ottawa, ON, Canada",
          "Ottawa, ON, Canada",
          "Columbus, OH, USA",
          "Columbus, OH, USA",
          "Columbus, OH, USA",
          "Columbus, OH, USA",
          "Columbus, OH, USA",
          "Vancouver, BC, Canada",
          "Vancouver, BC, Canada",
          "Madrid, Spain",
          "Madrid, Spain",
          "Madrid, Spain",
          "Baltimore, MD, USA",
          "Tehran, Tehran Province, Iran",
          "Oklahoma City, OK, USA",
          "Raleigh, NC, USA",
          "Jacksonville, FL, USA",
          "Jacksonville, FL, USA",
          "Jacksonville, FL, USA",
          "Jacksonville, FL, USA",
          "Jacksonville, FL, USA",
          "Jacksonville, FL, USA",
          "Sofia, Bulgaria",
          "Pretoria, South Africa",
          "Nashville, TN, USA",
          "San Juan, Puerto Rico",
          "San Juan, Puerto Rico",
          "San Juan, Puerto Rico",
          "San Juan, Puerto Rico",
          "San Juan, Puerto Rico",
          "San Juan, Puerto Rico",
          "San Juan, Puerto Rico",
          "San Juan, Puerto Rico",
          "San Juan, Puerto Rico",
          "San Juan, Puerto Rico",
          "San Juan, Puerto Rico",
          "San Juan, Puerto Rico",
          "San Juan, Puerto Rico",
          "San Juan, Puerto Rico",
          "Rome, Metropolitan City of Rome Capital, Italy",
          "Rome, Metropolitan City of Rome Capital, Italy",
          "Rome, Metropolitan City of Rome Capital, Italy",
          "Munich, Germany",
          "Fort Worth, TX, USA",
          "Lima, Peru",
          "Lima, Peru",
          "Lima, Peru",
          "Athens, Greece",
          "Athens, Greece",
          "Athens, Greece",
          "Athens, Greece",
          "Athens, Greece",
          "Athens, Greece",
          "Winnipeg, MB, Canada",
          "Indianapolis, IN, USA",
          "Washington, DC, USA",
          "Washington, DC, USA",
          "Washington, DC, USA",
          "Washington, DC, USA",
          "Washington, DC, USA",
          "Washington, DC, USA",
          "Washington, DC, USA",
          "Washington, DC, USA",
          "Washington, DC, USA",
          "Washington, DC, USA",
          "Washington, DC, USA",
          "Washington, DC, USA",
          "Zagreb, Croatia",
          "Birmingham, UK",
          "Birmingham, UK",
          "Birmingham, UK",
          "Kansas City, MO, USA",
          "Kansas City, MO, USA",
          "Tampa, FL, USA",
          "Rio de Janeiro, State of Rio de Janeiro, Brazil",
          "Katowice, Poland",
          "Imus, Cavite, Philippines",
          "Hamburg, Germany",
          "Hamburg, Germany",
          "Albuquerque, NM, USA",
          "Belgrade, Serbia",
          "Belgrade, Serbia",
          "Ulaanbaatar, Mongolia",
          "Vilnius, Vilnius City Municipality, Lithuania",
          "Antipolo,  Rizal, Philippines",
          "Kyiv, Ukraine,",
          "Barcelona, Spain",
          "Barcelona, Spain",
          "Barcelona, Spain",
          "Cagayan de Oro, Misamis Oriental, Philippines",
          "Virginia Beach, VA, USA",
          "Cologne, Germany",
          "Lagos, Nigeria",
          "Lagos, Nigeria",
          "Lagos, Nigeria",
          "Bratislava, Slovakia",
          "Honolulu, HI, USA",
          "Dhaka, Bangladesh",
          "Dhaka, Bangladesh",
          "Bandung, Bandung City, West Java, Indonesia",
          "Buenos Aires, Argentina",
          "Buenos Aires, Argentina",
          "Buenos Aires, Argentina",
          "Gothenburg, Sweden",
          "El Paso, TX, USA",
          "El Paso, TX, USA",
          "Manchester, UK",
          "Manchester, UK",
          "Manchester, UK",
          "Manchester, UK",
          "Manchester, UK",
          "Manchester, UK",
          "Manchester, UK",
          "Surabaya, East Java, Indonesia",
          "Pittsburgh, PA, USA",
          "Louisville, KY, USA",
          "Louisville, KY, USA",
          "Louisville, KY, USA",
          "Mississauga, ON, Canada",
          "Omaha, NE, USA",
          "Lyon, France",
          "Bacoor, Cavite, Philippines",
          "Lisbon, Portugal",
          "Lisbon, Portugal",
          "Chennai, Tamil Nadu, India",
          "Ashburn, VA, USA",
          "Colorado Springs, CO, USA",
          "Brno, Czechia",
          "Rotterdam, Netherlands",
          "Rotterdam, Netherlands",
          "Thessaloniki, Greece",
          "Tbilisi, Georgia",
          "Edinburgh, UK",
          "Parañaque, Metro Manila, Philippines",
          "Parañaque, Metro Manila, Philippines",
          "Mumbai, Maharashtra, India",
          "Riga, Latvia",
          "Riga, Latvia",
          "Kochi, Kerala, India",
          "Kochi, Kerala, India",
          "Seoul, South Korea",
          "Delhi, India",
          "Delhi, India",
          "Bacolod, Negros Occidental, Philippines",
          "Bacolod, Negros Occidental, Philippines",
          "Glasgow, UK",
          "Glasgow, UK",
          "Glasgow, UK",
          "Milwaukee, WI, USA",
          "Riverside, CA, USA",
          "Riverside, CA, USA",
          "Riverside, CA, USA",
          "Riverside, CA, USA",
          "Cleveland, OH, USA",
          "Cleveland, OH, USA",
          "Cleveland, OH, USA",
          "London, ON, Canada",
          "London, ON, Canada",
          "London, ON, Canada",
          "Stuttgart, Germany",
          "Surrey, BC, Canada",
          "Amman, Jordan",
          "Fresno, CA, USA",
          "Fresno, CA, USA",
          "Fresno, CA, USA",
          "Phnom Penh, Cambodia",
          "Birmingham, AL, USA",
          "Birmingham, AL, USA",
          "Birmingham, AL, USA",
          "Calamba,  Laguna, Philippines",
          "Anaheim, CA, USA",
          "Cincinnati, OH, USA",
          "Bristol, UK",
          "Bristol, UK",
          "Bristol, UK",
          "Bristol, UK",
          "Bristol, UK",
          "Bristol, UK",
          "Curitiba, State of Paraná, Brazil",
          "Hamilton, ON, Canada",
          "Hamilton, ON, Canada",
          "Hamilton, ON, Canada",
          "Hamilton, ON, Canada",
          "Hamilton, ON, Canada",
          "Hamilton, ON, Canada",
          "Hamilton, ON, Canada",
          "Hamilton, ON, Canada",
          "Hamilton, ON, Canada",
          "Tucson, AZ, USA",
          "Leipzig, Germany",
          "Liverpool, UK",
          "Johannesburg, South Africa",
          "Lille, France",
          "Lille, France",
          "Nairobi, Kenya",
          "Brampton, ON, Canada",
          "Cairo, Cairo Governorate, Egypt",
          "Cairo, Cairo Governorate, Egypt",
          "Sheffield, UK",
          "Sheffield, UK",
          "New Orleans, LA, USA",
          "Pune, Maharashtra, India",
          "Markham, ON, Canada",
          "Markham, ON, Canada",
          "Kolkata, West Bengal, India",
          "Hyderabad, Telangana, India",
          "Kansas City, KS, USA",
          "Kansas City, KS, USA",
          "Tallinn, Estonia",
          "Mesa, AZ, USA",
          "Guwahati, Assam, India",
          "Christchurch, New Zealand",
          "Christchurch, New Zealand",
          "Leeds, UK",
          "Leeds, UK",
          "Antwerp, Belgium",
          "Memphis, TN, USA",
          "Memphis, TN, USA",
          "Shah Alam, Selangor, Malaysia",
          "Lublin, Poland",
          "Hanover, Germany",
          "Hanover, Germany",
          "Hanover, Germany",
          "Hanover, Germany",
          "Hanover, Germany",
          "Hanover, Germany",
          "Hanover, Germany",
          "Petaling Jaya, Selangor, Malaysia",
          "Burnaby, BC, Canada",
          "Saskatoon, SK, Canada",
          "Belo Horizonte, State of Minas Gerais, Brazil",
          "Nuremberg, Germany",
          "Dresden, Germany",
          "Aurora, CO, USA",
          "Aurora, CO, USA",
          "Aurora, CO, USA",
          "Aurora, CO, USA",
          "Aurora, CO, USA",
          "Aurora, CO, USA",
          "Aurora, CO, USA",
          "Aurora, CO, USA",
          "Aurora, CO, USA",
          "Accra, Ghana",
          "Batangas, Philippines",
          "Regina, SK, Canada",
          "Colombo, Sri Lanka",
          "Colombo, Sri Lanka",
          "Newark, NJ, USA",
          "Newark, NJ, USA",
          "Newark, NJ, USA",
          "Newark, NJ, USA",
          "Newark, NJ, USA",
          "Lahore, Pakistan",
          "Bandar Seri Begawan, Brunei",
          "Knoxville, TN, USA",
          "Bakersfield, CA, USA",
          "Mobile, AL, USA",
          "General Trias, Cavite, Philippines",
          "Wellington, New Zealand",
          "Wellington, New Zealand",
          "Wellington, New Zealand",
          "Wellington, New Zealand",
          "Wellington, New Zealand",
          "Wellington, New Zealand",
          "Wellington, New Zealand",
          "Graz, Austria",
          "Karachi, Pakistan",
          "Boise, ID, USA",
          "Arlington, TX, USA",
          "Arlington, TX, USA",
          "Arlington, TX, USA",
          "Arlington, TX, USA",
          "Arlington, TX, USA",
          "Szczecin, Poland",
          "Cypress, Houston, TX, USA",
          "Tempe, AZ, USA",
          "Vaughan, ON, Canada",
          "Anchorage, AK, USA",
          "Porto, Portugal",
          "Porto, Portugal",
          "Almaty, Kazakhstan",
          "Aarhus, Denmark",
          "Strasbourg, France",
          "Alexandria, Alexandria Governorate, Egypt",
          "Alexandria, Alexandria Governorate, Egypt",
          "Alexandria, Alexandria Governorate, Egypt",
          "Alexandria, Alexandria Governorate, Egypt",
          "Alexandria, Alexandria Governorate, Egypt",
          "Alexandria, Alexandria Governorate, Egypt",
          "Alexandria, Alexandria Governorate, Egypt",
          "Alexandria, Alexandria Governorate, Egypt",
          "Semarang, Semarang City, Central Java, Indonesia",
          "Tashkent, Uzbekistan",
          "Irvine, CA, USA",
          "Irvine, CA, USA",
          "Toulouse, France",
          "Valencia, Spain",
          "Valencia, Spain",
          "Valencia, Spain",
          "Valencia, Spain",
          "Valencia, Spain",
          "Valencia, Spain",
          "Valencia, Spain",
          "Valencia, Spain",
          "Kingston, Jamaica",
          "Kingston, Jamaica",
          "Kingston, Jamaica",
          "Kingston, Jamaica",
          "Kingston, Jamaica",
          "Kingston, Jamaica",
          "Kingston, Jamaica",
          "Tijuana, Baja California, Mexico",
          "Monterrey, Nuevo Leon, Mexico",
          "Monterrey, Nuevo Leon, Mexico",
          "Ljubljana, Slovenia",
          "Buffalo, NY, USA",
          "Buffalo, NY, USA",
          "Bydgoszcz, Poland",
          "Madison, WI, USA",
          "Madison, WI, USA",
          "Madison, WI, USA",
          "Madison, WI, USA",
          "Madison, WI, USA",
          "Novosibirsk, Novosibirsk Oblast, Russia",
          "Dortmund, Germany",
          "The Hague, Netherlands",
          "Long Beach, CA, USA",
          "Long Beach, CA, USA",
          "Long Beach, CA, USA",
          "Essen, Germany",
          "Essen, Germany",
          "Essen, Germany",
          "Porto Alegre, RS, Brazil",
          "The Woodlands, TX, USA",
          "Bursa, Türkiye",
          "Halifax, NS, Canada",
          "Halifax, NS, Canada",
          "Bologna, Metropolitan City of Bologna, Italy",
          "Nampa, ID, USA",
          "Stockton, CA, USA",
          "College Station, TX, USA",
          "Turin, Metropolitan City of Turin, Italy",
          "Turin, Metropolitan City of Turin, Italy",
          "Plymouth, UK",
          "Plymouth, UK",
          "Plymouth, UK",
          "Plymouth, UK",
          "Plymouth, UK",
          "Plymouth, UK",
          "Plymouth, UK",
          "Plymouth, UK",
          "Savannah, GA, USA",
          "Reno, NV, USA",
          "Kitchener, ON, Canada",
          "Yekaterinburg, Sverdlovsk Oblast, Russia",
          "Baghdad, Baghdad Governorate, Iraq",
          "Recife, State of Pernambuco, Brazil",
          "Coventry, UK",
          "Coventry, UK",
          "Casablanca, Morocco",
          "Casablanca, Morocco",
          "Richmond, BC, Canada",
          "Richmond, BC, Canada",
          "Richmond, BC, Canada",
          "Richmond, BC, Canada",
          "Richmond, BC, Canada",
          "Richmond, BC, Canada",
          "Richmond, BC, Canada",
          "Richmond, BC, Canada",
          "Richmond, BC, Canada",
          "Richmond, BC, Canada",
          "Santa Ana, CA, USA",
          "Santa Ana, CA, USA",
          "Santa Ana, CA, USA",
          "Santa Ana, CA, USA",
          "Santa Ana, CA, USA",
          "Santa Ana, CA, USA",
          "Santa Ana, CA, USA",
          "Santa Ana, CA, USA",
          "Santa Ana, CA, USA",
          "Santa Ana, CA, USA",
          "Santa Ana, CA, USA",
          "Santa Ana, CA, USA",
          "Santa Ana, CA, USA",
          "Santa Ana, CA, USA",
          "Santa Ana, CA, USA",
          "Lexington, KY, USA",
          "Lexington, KY, USA",
          "Lexington, KY, USA",
          "Lexington, KY, USA",
          "Lexington, KY, USA",
          "Southampton, UK",
          "Southampton, UK",
          "Southampton, UK",
          "Southampton, UK",
          "Norfolk, VA, USA",
          "Norfolk, VA, USA",
          "Norfolk, VA, USA",
          "Laval, QC, Canada",
          "Laval, QC, Canada",
          "Bordeaux, France",
          "Waterloo, ON, Canada",
          "Waterloo, ON, Canada",
          "Waterloo, ON, Canada",
          "Waterloo, ON, Canada",
          "Tangerang, Tangerang City, Banten, Indonesia",
          "Wichita, KS, USA",
          "Tulsa, OK, USA",
          "Santa Clarita, CA, USA",
          "San Fernando, Pampanga, Philippines",
          "San Fernando, Pampanga, Philippines",
          "San Fernando, Pampanga, Philippines",
          "San Fernando, Pampanga, Philippines",
          "San Fernando, Pampanga, Philippines",
          "San Fernando, Pampanga, Philippines",
          "San Fernando, Pampanga, Philippines",
          "San Fernando, Pampanga, Philippines",
          "San Fernando, Pampanga, Philippines",
          "San Fernando, Pampanga, Philippines",
          "San Fernando, Pampanga, Philippines",
          "San Fernando, Pampanga, Philippines",
          "San Fernando, Pampanga, Philippines",
          "San Fernando, Pampanga, Philippines",
          "San Fernando, Pampanga, Philippines",
          "San Fernando, Pampanga, Philippines",
          "San Fernando, Pampanga, Philippines",
          "San Fernando, Pampanga, Philippines",
          "Nottingham, UK",
          "Krasnodar, Krasnodar Krai, Russia",
          "Montevideo, Montevideo Department, Uruguay",
          "Oakland, CA, USA",
          "Oakland, CA, USA",
          "Oakland, CA, USA",
          "Tunis, Tunisia",
          "Belfast, UK",
          "Little Rock, AR, USA",
          "Panama City, Panamá Province, Panama",
          "Panama City, Panamá Province, Panama",
          "Salvador, State of Bahia, Brazil",
          "Salvador, State of Bahia, Brazil",
          "Lviv, Lviv Oblast, Ukraine,",
          "Oakville, ON, Canada",
          "Oakville, ON, Canada",
          "Oakville, ON, Canada",
          "Norwich, UK",
          "Norwich, UK",
          "Norwich, UK",
          "Campinas, State of São Paulo, Brazil",
          "Provo, UT, USA",
          "Fort Collins, CO, USA",
          "Kaunas, Kaunas City Municipality, Lithuania",
          "Gainesville, FL, USA",
          "Gainesville, FL, USA",
          "Gainesville, FL, USA",
          "Gainesville, FL, USA",
          "Mannheim, Germany",
          "Minsk, Minsk Region, Belarus",
          "Algiers, Algeria",
          "Leicester, UK",
          "Leicester, UK",
          "Leicester, UK",
          "Spokane, WA, USA",
          "Chelyabinsk, Chelyabinsk Oblast, Russia",
          "Olsztyn, Poland",
          "Giza, El Omraniya, Giza Governorate, Egypt",
          "Lincoln, NE, USA",
          "Lincoln, NE, USA",
          "Lincoln, NE, USA",
          "Lincoln, NE, USA",
          "Lincoln, NE, USA",
          "Lincoln, NE, USA",
          "Lincoln, NE, USA",
          "Antalya, Türkiye",
          "Johor Bahru, Johor, Malaysia",
          "Kazan, Republic of Tatarstan, Russia",
          "Tiranë, Albania",
          "Grand Rapids, MI, USA",
          "Grand Rapids, MI, USA",
          "Zapopan, Jalisco, Mexico",
          "Gilbert, AZ, USA",
          "Slough, UK",
          "Plano, TX, USA",
          "Plano, TX, USA",
          "Marseille, France",
          "Naples, Metropolitan City of Naples, Italy",
          "Naples, Metropolitan City of Naples, Italy",
          "Lausanne, Switzerland",
          "Lubbock, TX, USA",
          "Guadalajara, Jalisco, Mexico",
          "Guadalajara, Jalisco, Mexico",
          "Da Nang, Hải Châu District, Da Nang, Vietnam",
          "Fort Wayne, IN, USA",
          "Manaus, State of Amazonas, Brazil",
          "Denpasar, Denpasar City, Bali, Indonesia",
          "Eindhoven, Netherlands",
          "Guatemala City, Guatemala",
          "Astana, Kazakhstan",
          "Agartala, Tripura, India",
          "Durham, NC, USA",
          "Durham, NC, USA",
          "Durham, NC, USA",
          "Kuching, Sarawak, Malaysia",
          "Richmond Hill, ON, Canada",
          "Richmond Hill, ON, Canada",
          "Florence, Metropolitan City of Florence, Italy",
          "Florence, Metropolitan City of Florence, Italy",
          "Florence, Metropolitan City of Florence, Italy",
          "Florence, Metropolitan City of Florence, Italy",
          "Florence, Metropolitan City of Florence, Italy",
          "Florence, Metropolitan City of Florence, Italy",
          "Florence, Metropolitan City of Florence, Italy",
          "Abuja, Federal Capital Territory, Nigeria",
          "Rostov-on-Don, Rostov Oblast, Russia",
          "Rostov-on-Don, Rostov Oblast, Russia",
          "San Pedro, Laguna, Philippines",
          "San Pedro, Laguna, Philippines",
          "San Pedro, Laguna, Philippines",
          "San Pedro, Laguna, Philippines",
          "San Pedro, Laguna, Philippines",
          "San Pedro, Laguna, Philippines",
          "San Pedro, Laguna, Philippines",
          "San Pedro, Laguna, Philippines",
          "San Pedro, Laguna, Philippines",
          "Vancouver, WA, USA",
          "Vancouver, WA, USA",
          "Chandler, AZ, USA",
          "Richmond, VA, USA",
          "Richmond, VA, USA",
          "Richmond, VA, USA",
          "Richmond, VA, USA",
          "Richmond, VA, USA",
          "Richmond, VA, USA",
          "Richmond, VA, USA",
          "Richmond, VA, USA",
          "Richmond, VA, USA",
          "Richmond, VA, USA",
          "Springfield, MO, USA",
          "Springfield, MO, USA",
          "Springfield, MO, USA",
          "Springfield, MO, USA",
          "Springfield, MO, USA",
          "Springfield, MO, USA",
          "Springfield, MO, USA",
          "Springfield, MO, USA",
          "Springfield, MO, USA",
          "Springfield, MO, USA",
          "Springfield, MO, USA",
          "Springfield, MO, USA",
          "Guelph, ON, Canada",
          "Bremen, Germany",
          "Santa Clara, CA, USA",
          "Santa Clara, CA, USA",
          "Santa Clara, CA, USA",
          "Santa Clara, CA, USA",
          "Eugene, OR, USA",
          "Chula Vista, CA, USA",
          "Fremont, CA, USA",
          "Fremont, CA, USA",
          "Fremont, CA, USA",
          "Santa Rosa, Laguna, Philippines",
          "Santa Rosa, Laguna, Philippines",
          "Santa Rosa, Laguna, Philippines",
          "Santa Rosa, Laguna, Philippines",
          "Santa Rosa, Laguna, Philippines",
          "Santa Rosa, Laguna, Philippines",
          "Santa Rosa, Laguna, Philippines",
          "Santa Rosa, Laguna, Philippines",
          "Santa Rosa, Laguna, Philippines",
          "Santa Rosa, Laguna, Philippines",
          "Gatineau, QC, Canada",
          "Kingston, ON, Canada",
          "Kingston, ON, Canada",
          "Kingston, ON, Canada",
          "Kingston, ON, Canada",
          "Kingston, ON, Canada",
          "Kingston, ON, Canada",
          "Kingston, ON, Canada",
          "Lafayette, LA, USA",
          "Lafayette, LA, USA",
          "Lafayette, LA, USA",
          "Lafayette, LA, USA",
          "Baku, Azerbaijan",
          "Norderstedt, Germany",
          "Malang, Malang City, East Java, Indonesia",
          "Denton, TX, USA",
          "Denton, TX, USA",
          "Depok, Depok City, West Java, Indonesia",
          "Medan, Medan City, North Sumatra, Indonesia",
          "Huntsville, AL, USA",
          "Huntsville, AL, USA",
          "Huntsville, AL, USA",
          "Syracuse, NY, USA",
          "Syracuse, NY, USA",
          "Longueuil, QC, Canada",
          "Oshawa, ON, Canada",
          "Dreieich, Germany",
          "Tallahassee, FL, USA",
          "Albany, NY, USA",
          "Albany, NY, USA",
          "Albany, NY, USA",
          "Albany, NY, USA",
          "Albany, NY, USA",
          "Kota Kinabalu, Sabah, Malaysia",
          "Taytay,  Rizal, Philippines",
          "Taytay,  Rizal, Philippines",
          "Cabanatuan City, Nueva Ecija, Philippines",
          "Frisco, TX, USA",
          "Tacoma, WA, USA",
          "Chesapeake, VA, USA",
          "Patna, Bihar, India",
          "Ann Arbor, MI, USA",
          "Windsor, ON, Canada",
          "Windsor, ON, Canada",
          "Windsor, ON, Canada",
          "Windsor, ON, Canada",
          "Windsor, ON, Canada",
          "Makassar, Makassar City, South Sulawesi, Indonesia",
          "Kajang, Selangor, Malaysia",
          "Quito, Ecuador",
          "Augsburg, Germany",
          "Cork, Ireland",
          "McKinney, TX, USA",
          "Hamilton, New Zealand",
          "Hamilton, New Zealand",
          "Hamilton, New Zealand",
          "Hamilton, New Zealand",
          "Hamilton, New Zealand",
          "Hamilton, New Zealand",
          "Hamilton, New Zealand",
          "Hamilton, New Zealand",
          "Hamilton, New Zealand",
          "Merida, Yucatan, Mexico",
          "Merida, Yucatan, Mexico",
          "Merida, Yucatan, Mexico",
          "Merida, Yucatan, Mexico",
          "Beaverton, OR, USA",
          "Arlington, VA, USA",
          "Arlington, VA, USA",
          "Arlington, VA, USA",
          "Arlington, VA, USA",
          "Arlington, VA, USA",
          "Corpus Christi, TX, USA",
          "Reading, UK",
          "Reading, UK",
          "Reading, UK",
          "Reading, UK",
          "Karlsruhe, Germany",
          "Aberdeen, UK",
          "Aberdeen, UK",
          "Aberdeen, UK",
          "Aberdeen, UK",
          "Aberdeen, UK",
          "Aberdeen, UK",
          "Glendale, AZ, USA",
          "Glendale, AZ, USA",
          "Glendale, AZ, USA",
          "Clarksville, TN, USA",
          "Clarksville, TN, USA",
          "Clarksville, TN, USA",
          "Puebla, Mexico",
          "Lewisville, TX, USA",
          "Lewisville, TX, USA",
          "Mandaue City, Cebu, Philippines",
          "Bekasi, West Java, Indonesia",
          "Ostrava, Czechia",
          "Surprise, AZ, USA",
          "Tarlac City, Tarlac, Philippines",
          "Newport News, VA, USA",
          "Rochester, NY, USA",
          "Rochester, NY, USA",
          "Rochester, NY, USA",
          "Rochester, NY, USA",
          "Rochester, NY, USA",
          "Bonn, Germany",
          "Norman, OK, USA",
          "Elk Grove, CA, USA",
          "Doha, Qatar",
          "Fontana, CA, USA",
          "Fontana, CA, USA",
          "Fontana, CA, USA",
          "Dnipro, Dnipropetrovsk Oblast, Ukraine,",
          "Kelowna, BC, Canada",
          "San Bernardino, CA, USA",
          "San Bernardino, CA, USA",
          "San Bernardino, CA, USA",
          "Lethbridge, AB, Canada",
          "Varna, Bulgaria",
          "Nantes, France",
          "Beirut, Lebanon",
          "Randburg, South Africa",
          "Olongapo, Zambales, Philippines",
          "Groningen, Netherlands",
          "Groningen, Netherlands",
          "Lucknow, Uttar Pradesh, India",
          "Charleston, SC, USA",
          "Charleston, SC, USA",
          "Charleston, SC, USA",
          "Round Rock, TX, USA",
          "Surakarta, Surakarta City, Central Java, Indonesia",
          "Greensboro, NC, USA",
          "Fayetteville, NC, USA",
          "Fayetteville, NC, USA",
          "Fayetteville, NC, USA",
          "Centurion, South Africa",
          "Utrecht, Netherlands",
          "Novi Sad, Serbia",
          "Kiel, Germany",
          "Coquitlam, BC, Canada",
          "York, UK",
          "York, UK",
          "York, UK",
          "York, UK",
          "Uppsala, Sweden",
          "Uppsala, Sweden",
          "Lucena,  Quezon, Philippines",
          "Lucena,  Quezon, Philippines",
          "Lucena,  Quezon, Philippines",
          "Lucena,  Quezon, Philippines",
          "McAllen, TX, USA",
          "La Trinidad, Benguet, Philippines",
          "La Trinidad, Benguet, Philippines",
          "La Trinidad, Benguet, Philippines",
          "La Trinidad, Benguet, Philippines",
          "Krasnoyarsk, Krasnoyarsk Krai, Russia",
          "Skopje, North Macedonia",
          "Valenzuela, Metro Manila, Philippines",
          "Moreno Valley, CA, USA",
          "Islamabad, Pakistan",
          "Islamabad, Pakistan",
          "Cambridge, UK",
          "Cambridge, UK",
          "Cambridge, UK",
          "Cambridge, UK",
          "Cambridge, UK",
          "Cambridge, UK",
          "Cambridge, UK",
          "Red Deer, AB, Canada",
          "Brașov, Romania",
          "Aachen, Germany",
          "Miami Beach, FL, USA",
          "Morrisville, NC, USA",
          "Morrisville, NC, USA",
          "Salem, OR, USA",
          "Salem, OR, USA",
          "Salem, OR, USA",
          "Salem, OR, USA",
          "Salem, OR, USA",
          "Salem, OR, USA",
          "Salem, OR, USA",
          "Victorville, CA, USA",
          "Garden Grove, CA, USA"
         ],
         "lat": {
          "bdata": "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",
          "dtype": "f8"
         },
         "legendgroup": "",
         "lon": {
          "bdata": "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",
          "dtype": "f8"
         },
         "marker": {
          "color": {
           "bdata": "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",
           "dtype": "f8"
          },
          "coloraxis": "coloraxis",
          "size": {
           "bdata": "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",
           "dtype": "f8"
          },
          "sizemode": "area",
          "sizeref": 1185.73,
          "symbol": "circle"
         },
         "mode": "markers",
         "name": "",
         "showlegend": false,
         "type": "scattergeo"
        }
       ],
       "layout": {
        "coloraxis": {
         "colorbar": {
          "title": {
           "text": "Views"
          }
         },
         "colorscale": [
          [
           0,
           "rgb(255,255,204)"
          ],
          [
           0.125,
           "rgb(255,237,160)"
          ],
          [
           0.25,
           "rgb(254,217,118)"
          ],
          [
           0.375,
           "rgb(254,178,76)"
          ],
          [
           0.5,
           "rgb(253,141,60)"
          ],
          [
           0.625,
           "rgb(252,78,42)"
          ],
          [
           0.75,
           "rgb(227,26,28)"
          ],
          [
           0.875,
           "rgb(189,0,38)"
          ],
          [
           1,
           "rgb(128,0,38)"
          ]
         ]
        },
        "geo": {
         "center": {},
         "domain": {
          "x": [
           0,
           1
          ],
          "y": [
           0,
           1
          ]
         },
         "landcolor": "lightgray",
         "projection": {
          "type": "natural earth"
         },
         "showland": true
        },
        "legend": {
         "itemsizing": "constant",
         "tracegroupgap": 0
        },
        "template": {
         "data": {
          "bar": [
           {
            "error_x": {
             "color": "#2a3f5f"
            },
            "error_y": {
             "color": "#2a3f5f"
            },
            "marker": {
             "line": {
              "color": "#E5ECF6",
              "width": 0.5
             },
             "pattern": {
              "fillmode": "overlay",
              "size": 10,
              "solidity": 0.2
             }
            },
            "type": "bar"
           }
          ],
          "barpolar": [
           {
            "marker": {
             "line": {
              "color": "#E5ECF6",
              "width": 0.5
             },
             "pattern": {
              "fillmode": "overlay",
              "size": 10,
              "solidity": 0.2
             }
            },
            "type": "barpolar"
           }
          ],
          "carpet": [
           {
            "aaxis": {
             "endlinecolor": "#2a3f5f",
             "gridcolor": "white",
             "linecolor": "white",
             "minorgridcolor": "white",
             "startlinecolor": "#2a3f5f"
            },
            "baxis": {
             "endlinecolor": "#2a3f5f",
             "gridcolor": "white",
             "linecolor": "white",
             "minorgridcolor": "white",
             "startlinecolor": "#2a3f5f"
            },
            "type": "carpet"
           }
          ],
          "choropleth": [
           {
            "colorbar": {
             "outlinewidth": 0,
             "ticks": ""
            },
            "type": "choropleth"
           }
          ],
          "contour": [
           {
            "colorbar": {
             "outlinewidth": 0,
             "ticks": ""
            },
            "colorscale": [
             [
              0,
              "#0d0887"
             ],
             [
              0.1111111111111111,
              "#46039f"
             ],
             [
              0.2222222222222222,
              "#7201a8"
             ],
             [
              0.3333333333333333,
              "#9c179e"
             ],
             [
              0.4444444444444444,
              "#bd3786"
             ],
             [
              0.5555555555555556,
              "#d8576b"
             ],
             [
              0.6666666666666666,
              "#ed7953"
             ],
             [
              0.7777777777777778,
              "#fb9f3a"
             ],
             [
              0.8888888888888888,
              "#fdca26"
             ],
             [
              1,
              "#f0f921"
             ]
            ],
            "type": "contour"
           }
          ],
          "contourcarpet": [
           {
            "colorbar": {
             "outlinewidth": 0,
             "ticks": ""
            },
            "type": "contourcarpet"
           }
          ],
          "heatmap": [
           {
            "colorbar": {
             "outlinewidth": 0,
             "ticks": ""
            },
            "colorscale": [
             [
              0,
              "#0d0887"
             ],
             [
              0.1111111111111111,
              "#46039f"
             ],
             [
              0.2222222222222222,
              "#7201a8"
             ],
             [
              0.3333333333333333,
              "#9c179e"
             ],
             [
              0.4444444444444444,
              "#bd3786"
             ],
             [
              0.5555555555555556,
              "#d8576b"
             ],
             [
              0.6666666666666666,
              "#ed7953"
             ],
             [
              0.7777777777777778,
              "#fb9f3a"
             ],
             [
              0.8888888888888888,
              "#fdca26"
             ],
             [
              1,
              "#f0f921"
             ]
            ],
            "type": "heatmap"
           }
          ],
          "histogram": [
           {
            "marker": {
             "pattern": {
              "fillmode": "overlay",
              "size": 10,
              "solidity": 0.2
             }
            },
            "type": "histogram"
           }
          ],
          "histogram2d": [
           {
            "colorbar": {
             "outlinewidth": 0,
             "ticks": ""
            },
            "colorscale": [
             [
              0,
              "#0d0887"
             ],
             [
              0.1111111111111111,
              "#46039f"
             ],
             [
              0.2222222222222222,
              "#7201a8"
             ],
             [
              0.3333333333333333,
              "#9c179e"
             ],
             [
              0.4444444444444444,
              "#bd3786"
             ],
             [
              0.5555555555555556,
              "#d8576b"
             ],
             [
              0.6666666666666666,
              "#ed7953"
             ],
             [
              0.7777777777777778,
              "#fb9f3a"
             ],
             [
              0.8888888888888888,
              "#fdca26"
             ],
             [
              1,
              "#f0f921"
             ]
            ],
            "type": "histogram2d"
           }
          ],
          "histogram2dcontour": [
           {
            "colorbar": {
             "outlinewidth": 0,
             "ticks": ""
            },
            "colorscale": [
             [
              0,
              "#0d0887"
             ],
             [
              0.1111111111111111,
              "#46039f"
             ],
             [
              0.2222222222222222,
              "#7201a8"
             ],
             [
              0.3333333333333333,
              "#9c179e"
             ],
             [
              0.4444444444444444,
              "#bd3786"
             ],
             [
              0.5555555555555556,
              "#d8576b"
             ],
             [
              0.6666666666666666,
              "#ed7953"
             ],
             [
              0.7777777777777778,
              "#fb9f3a"
             ],
             [
              0.8888888888888888,
              "#fdca26"
             ],
             [
              1,
              "#f0f921"
             ]
            ],
            "type": "histogram2dcontour"
           }
          ],
          "mesh3d": [
           {
            "colorbar": {
             "outlinewidth": 0,
             "ticks": ""
            },
            "type": "mesh3d"
           }
          ],
          "parcoords": [
           {
            "line": {
             "colorbar": {
              "outlinewidth": 0,
              "ticks": ""
             }
            },
            "type": "parcoords"
           }
          ],
          "pie": [
           {
            "automargin": true,
            "type": "pie"
           }
          ],
          "scatter": [
           {
            "fillpattern": {
             "fillmode": "overlay",
             "size": 10,
             "solidity": 0.2
            },
            "type": "scatter"
           }
          ],
          "scatter3d": [
           {
            "line": {
             "colorbar": {
              "outlinewidth": 0,
              "ticks": ""
             }
            },
            "marker": {
             "colorbar": {
              "outlinewidth": 0,
              "ticks": ""
             }
            },
            "type": "scatter3d"
           }
          ],
          "scattercarpet": [
           {
            "marker": {
             "colorbar": {
              "outlinewidth": 0,
              "ticks": ""
             }
            },
            "type": "scattercarpet"
           }
          ],
          "scattergeo": [
           {
            "marker": {
             "colorbar": {
              "outlinewidth": 0,
              "ticks": ""
             }
            },
            "type": "scattergeo"
           }
          ],
          "scattergl": [
           {
            "marker": {
             "colorbar": {
              "outlinewidth": 0,
              "ticks": ""
             }
            },
            "type": "scattergl"
           }
          ],
          "scattermap": [
           {
            "marker": {
             "colorbar": {
              "outlinewidth": 0,
              "ticks": ""
             }
            },
            "type": "scattermap"
           }
          ],
          "scattermapbox": [
           {
            "marker": {
             "colorbar": {
              "outlinewidth": 0,
              "ticks": ""
             }
            },
            "type": "scattermapbox"
           }
          ],
          "scatterpolar": [
           {
            "marker": {
             "colorbar": {
              "outlinewidth": 0,
              "ticks": ""
             }
            },
            "type": "scatterpolar"
           }
          ],
          "scatterpolargl": [
           {
            "marker": {
             "colorbar": {
              "outlinewidth": 0,
              "ticks": ""
             }
            },
            "type": "scatterpolargl"
           }
          ],
          "scatterternary": [
           {
            "marker": {
             "colorbar": {
              "outlinewidth": 0,
              "ticks": ""
             }
            },
            "type": "scatterternary"
           }
          ],
          "surface": [
           {
            "colorbar": {
             "outlinewidth": 0,
             "ticks": ""
            },
            "colorscale": [
             [
              0,
              "#0d0887"
             ],
             [
              0.1111111111111111,
              "#46039f"
             ],
             [
              0.2222222222222222,
              "#7201a8"
             ],
             [
              0.3333333333333333,
              "#9c179e"
             ],
             [
              0.4444444444444444,
              "#bd3786"
             ],
             [
              0.5555555555555556,
              "#d8576b"
             ],
             [
              0.6666666666666666,
              "#ed7953"
             ],
             [
              0.7777777777777778,
              "#fb9f3a"
             ],
             [
              0.8888888888888888,
              "#fdca26"
             ],
             [
              1,
              "#f0f921"
             ]
            ],
            "type": "surface"
           }
          ],
          "table": [
           {
            "cells": {
             "fill": {
              "color": "#EBF0F8"
             },
             "line": {
              "color": "white"
             }
            },
            "header": {
             "fill": {
              "color": "#C8D4E3"
             },
             "line": {
              "color": "white"
             }
            },
            "type": "table"
           }
          ]
         },
         "layout": {
          "annotationdefaults": {
           "arrowcolor": "#2a3f5f",
           "arrowhead": 0,
           "arrowwidth": 1
          },
          "autotypenumbers": "strict",
          "coloraxis": {
           "colorbar": {
            "outlinewidth": 0,
            "ticks": ""
           }
          },
          "colorscale": {
           "diverging": [
            [
             0,
             "#8e0152"
            ],
            [
             0.1,
             "#c51b7d"
            ],
            [
             0.2,
             "#de77ae"
            ],
            [
             0.3,
             "#f1b6da"
            ],
            [
             0.4,
             "#fde0ef"
            ],
            [
             0.5,
             "#f7f7f7"
            ],
            [
             0.6,
             "#e6f5d0"
            ],
            [
             0.7,
             "#b8e186"
            ],
            [
             0.8,
             "#7fbc41"
            ],
            [
             0.9,
             "#4d9221"
            ],
            [
             1,
             "#276419"
            ]
           ],
           "sequential": [
            [
             0,
             "#0d0887"
            ],
            [
             0.1111111111111111,
             "#46039f"
            ],
            [
             0.2222222222222222,
             "#7201a8"
            ],
            [
             0.3333333333333333,
             "#9c179e"
            ],
            [
             0.4444444444444444,
             "#bd3786"
            ],
            [
             0.5555555555555556,
             "#d8576b"
            ],
            [
             0.6666666666666666,
             "#ed7953"
            ],
            [
             0.7777777777777778,
             "#fb9f3a"
            ],
            [
             0.8888888888888888,
             "#fdca26"
            ],
            [
             1,
             "#f0f921"
            ]
           ],
           "sequentialminus": [
            [
             0,
             "#0d0887"
            ],
            [
             0.1111111111111111,
             "#46039f"
            ],
            [
             0.2222222222222222,
             "#7201a8"
            ],
            [
             0.3333333333333333,
             "#9c179e"
            ],
            [
             0.4444444444444444,
             "#bd3786"
            ],
            [
             0.5555555555555556,
             "#d8576b"
            ],
            [
             0.6666666666666666,
             "#ed7953"
            ],
            [
             0.7777777777777778,
             "#fb9f3a"
            ],
            [
             0.8888888888888888,
             "#fdca26"
            ],
            [
             1,
             "#f0f921"
            ]
           ]
          },
          "colorway": [
           "#636efa",
           "#EF553B",
           "#00cc96",
           "#ab63fa",
           "#FFA15A",
           "#19d3f3",
           "#FF6692",
           "#B6E880",
           "#FF97FF",
           "#FECB52"
          ],
          "font": {
           "color": "#2a3f5f"
          },
          "geo": {
           "bgcolor": "white",
           "lakecolor": "white",
           "landcolor": "#E5ECF6",
           "showlakes": true,
           "showland": true,
           "subunitcolor": "white"
          },
          "hoverlabel": {
           "align": "left"
          },
          "hovermode": "closest",
          "mapbox": {
           "style": "light"
          },
          "paper_bgcolor": "white",
          "plot_bgcolor": "#E5ECF6",
          "polar": {
           "angularaxis": {
            "gridcolor": "white",
            "linecolor": "white",
            "ticks": ""
           },
           "bgcolor": "#E5ECF6",
           "radialaxis": {
            "gridcolor": "white",
            "linecolor": "white",
            "ticks": ""
           }
          },
          "scene": {
           "xaxis": {
            "backgroundcolor": "#E5ECF6",
            "gridcolor": "white",
            "gridwidth": 2,
            "linecolor": "white",
            "showbackground": true,
            "ticks": "",
            "zerolinecolor": "white"
           },
           "yaxis": {
            "backgroundcolor": "#E5ECF6",
            "gridcolor": "white",
            "gridwidth": 2,
            "linecolor": "white",
            "showbackground": true,
            "ticks": "",
            "zerolinecolor": "white"
           },
           "zaxis": {
            "backgroundcolor": "#E5ECF6",
            "gridcolor": "white",
            "gridwidth": 2,
            "linecolor": "white",
            "showbackground": true,
            "ticks": "",
            "zerolinecolor": "white"
           }
          },
          "shapedefaults": {
           "line": {
            "color": "#2a3f5f"
           }
          },
          "ternary": {
           "aaxis": {
            "gridcolor": "white",
            "linecolor": "white",
            "ticks": ""
           },
           "baxis": {
            "gridcolor": "white",
            "linecolor": "white",
            "ticks": ""
           },
           "bgcolor": "#E5ECF6",
           "caxis": {
            "gridcolor": "white",
            "linecolor": "white",
            "ticks": ""
           }
          },
          "title": {
           "x": 0.05
          },
          "xaxis": {
           "automargin": true,
           "gridcolor": "white",
           "linecolor": "white",
           "ticks": "",
           "title": {
            "standoff": 15
           },
           "zerolinecolor": "white",
           "zerolinewidth": 2
          },
          "yaxis": {
           "automargin": true,
           "gridcolor": "white",
           "linecolor": "white",
           "ticks": "",
           "title": {
            "standoff": 15
           },
           "zerolinecolor": "white",
           "zerolinewidth": 2
          }
         }
        },
        "title": {
         "text": "Heatmap of Views by City (Bubble Size = Views)"
        }
       }
      }
     },
     "metadata": {},
     "output_type": "display_data"
    }
   ],
   "source": [
    "from geopy.geocoders import Nominatim\n",
    "from geopy.extra.rate_limiter import RateLimiter\n",
    "import plotly.express as px\n",
    "import time\n",
    "\n",
    "# Convert Views column to numeric\n",
    "cities_clean['Views'] = pd.to_numeric(cities_clean['Views'], errors='coerce')\n",
    "cities_clean['Cleaned City Name'] = cities_clean['City name'].str.extract(r'([a-zA-Z\\s]+)')[0]\n",
    "\n",
    "# Load the city coordinates data (adjust the CSV file path)\n",
    "city_coords = pd.read_csv('worldcities.csv')\n",
    "\n",
    "# Merge the YouTube analytics data with the city coordinates data\n",
    "# Ensure that city names match in both datasets (using 'Cleaned City Name' for merge)\n",
    "merged_data = pd.merge(cities_clean, city_coords[['city_ascii', 'lat', 'lng']], \n",
    "                       left_on='Cleaned City Name', right_on='city_ascii', how='left')\n",
    "\n",
    "# Drop rows where coordinates are not found\n",
    "merged_data = merged_data.dropna(subset=['lat', 'lng'])\n",
    "\n",
    "# Plot with Plotly\n",
    "fig = px.scatter_geo(\n",
    "    merged_data,\n",
    "    lat=\"lat\",\n",
    "    lon=\"lng\",\n",
    "    size=\"Views\",\n",
    "    color=\"Views\",\n",
    "    hover_name=\"City name\",\n",
    "    size_max=10,  # Set to a smaller value for smaller bubbles\n",
    "    projection=\"natural earth\",\n",
    "    title=\"Heatmap of Views by City (Bubble Size = Views)\",\n",
    "    color_continuous_scale=\"YlOrRd\"\n",
    ")\n",
    "\n",
    "# Adjust layout for better visualization\n",
    "fig.update_layout(geo=dict(showland=True, landcolor=\"lightgray\"))\n",
    "fig.show()\n"
   ]
  },
  {
   "cell_type": "markdown",
   "id": "f2cb6e55",
   "metadata": {},
   "source": [
    "**Exploring the effects of hashtags**"
   ]
  },
  {
   "cell_type": "code",
   "execution_count": 23,
   "id": "e4e76505",
   "metadata": {},
   "outputs": [],
   "source": [
    "import re\n",
    "content['Hashtags_List'] = content['Video title'].str.findall(r'#\\w+')"
   ]
  },
  {
   "cell_type": "code",
   "execution_count": 24,
   "id": "d7402811",
   "metadata": {},
   "outputs": [],
   "source": [
    "# Extract video hashtags\n",
    "content['Hashtags_List'] = content['Video title'].str.findall(r'#\\w+')\n",
    "\n",
    "# Explode to get one row for each hashtag\n",
    "hashtag_df = content.explode('Hashtags_List').dropna(subset=['Hashtags_List', 'Views'])\n",
    "\n",
    "# Remove invalid entries\n",
    "hashtag_df['Views'] = pd.to_numeric(hashtag_df['Views'], errors='coerce')"
   ]
  },
  {
   "cell_type": "code",
   "execution_count": 25,
   "id": "5647ed16",
   "metadata": {},
   "outputs": [],
   "source": [
    "# Count appearances and average views\n",
    "hashtag_stats = hashtag_df.groupby('Hashtags_List').agg(\n",
    "    count=('Views', 'count'),\n",
    "    avg_views=('Views', 'mean'),\n",
    "    std_views=('Views', 'std')\n",
    ")"
   ]
  },
  {
   "cell_type": "code",
   "execution_count": 27,
   "id": "87a3fc6d",
   "metadata": {},
   "outputs": [],
   "source": [
    "import numpy as np\n",
    "# Normalize data to account for outliers\n",
    "hashtag_stats['normalized_score'] = hashtag_stats['avg_views'] / np.log1p(hashtag_stats['count'])"
   ]
  },
  {
   "cell_type": "code",
   "execution_count": 28,
   "id": "b5527727",
   "metadata": {},
   "outputs": [
    {
     "name": "stdout",
     "output_type": "stream",
     "text": [
      "                  count      avg_views      std_views  normalized_score\n",
      "Hashtags_List                                                          \n",
      "#leagueoflegends     57  142112.421053  230355.702197      34999.240399\n",
      "#shorts              74  140910.905405  205691.791390      32637.242234\n",
      "#arctober            28   88179.678571  100329.859598      26187.089886\n",
      "#arcane              96  118157.343750  188802.478099      25828.373487\n",
      "#arcanefics           2   10195.000000    5730.393355       9279.888915\n",
      "#riotgames            2   10195.000000    5730.393355       9279.888915\n"
     ]
    }
   ],
   "source": [
    "# Sort by normalized impact\n",
    "top_tags = hashtag_stats.sort_values('normalized_score', ascending=False)\n",
    "print(top_tags.head(10))"
   ]
  },
  {
   "cell_type": "code",
   "execution_count": 29,
   "id": "57006d10",
   "metadata": {},
   "outputs": [
    {
     "data": {
      "application/vnd.plotly.v1+json": {
       "config": {
        "plotlyServerURL": "https://plot.ly"
       },
       "data": [
        {
         "hovertemplate": "x=%{x}<br>Normalized Impact=%{marker.color}<extra></extra>",
         "legendgroup": "",
         "marker": {
          "color": {
           "bdata": "tUhZsecW4UBTf8SAT9/fQEG9r8DFktlA0/k35xc52UAbWPvH8R/CQBtY+8fxH8JA",
           "dtype": "f8"
          },
          "coloraxis": "coloraxis",
          "pattern": {
           "shape": ""
          }
         },
         "name": "",
         "orientation": "v",
         "showlegend": false,
         "textposition": "auto",
         "type": "bar",
         "x": [
          "#leagueoflegends",
          "#shorts",
          "#arctober",
          "#arcane",
          "#arcanefics",
          "#riotgames"
         ],
         "xaxis": "x",
         "y": {
          "bdata": "tUhZsecW4UBTf8SAT9/fQEG9r8DFktlA0/k35xc52UAbWPvH8R/CQBtY+8fxH8JA",
          "dtype": "f8"
         },
         "yaxis": "y"
        }
       ],
       "layout": {
        "barmode": "relative",
        "coloraxis": {
         "colorbar": {
          "title": {
           "text": "Normalized Impact"
          }
         },
         "colorscale": [
          [
           0,
           "rgb(255,255,204)"
          ],
          [
           0.125,
           "rgb(255,237,160)"
          ],
          [
           0.25,
           "rgb(254,217,118)"
          ],
          [
           0.375,
           "rgb(254,178,76)"
          ],
          [
           0.5,
           "rgb(253,141,60)"
          ],
          [
           0.625,
           "rgb(252,78,42)"
          ],
          [
           0.75,
           "rgb(227,26,28)"
          ],
          [
           0.875,
           "rgb(189,0,38)"
          ],
          [
           1,
           "rgb(128,0,38)"
          ]
         ]
        },
        "legend": {
         "tracegroupgap": 0
        },
        "template": {
         "data": {
          "bar": [
           {
            "error_x": {
             "color": "#2a3f5f"
            },
            "error_y": {
             "color": "#2a3f5f"
            },
            "marker": {
             "line": {
              "color": "#E5ECF6",
              "width": 0.5
             },
             "pattern": {
              "fillmode": "overlay",
              "size": 10,
              "solidity": 0.2
             }
            },
            "type": "bar"
           }
          ],
          "barpolar": [
           {
            "marker": {
             "line": {
              "color": "#E5ECF6",
              "width": 0.5
             },
             "pattern": {
              "fillmode": "overlay",
              "size": 10,
              "solidity": 0.2
             }
            },
            "type": "barpolar"
           }
          ],
          "carpet": [
           {
            "aaxis": {
             "endlinecolor": "#2a3f5f",
             "gridcolor": "white",
             "linecolor": "white",
             "minorgridcolor": "white",
             "startlinecolor": "#2a3f5f"
            },
            "baxis": {
             "endlinecolor": "#2a3f5f",
             "gridcolor": "white",
             "linecolor": "white",
             "minorgridcolor": "white",
             "startlinecolor": "#2a3f5f"
            },
            "type": "carpet"
           }
          ],
          "choropleth": [
           {
            "colorbar": {
             "outlinewidth": 0,
             "ticks": ""
            },
            "type": "choropleth"
           }
          ],
          "contour": [
           {
            "colorbar": {
             "outlinewidth": 0,
             "ticks": ""
            },
            "colorscale": [
             [
              0,
              "#0d0887"
             ],
             [
              0.1111111111111111,
              "#46039f"
             ],
             [
              0.2222222222222222,
              "#7201a8"
             ],
             [
              0.3333333333333333,
              "#9c179e"
             ],
             [
              0.4444444444444444,
              "#bd3786"
             ],
             [
              0.5555555555555556,
              "#d8576b"
             ],
             [
              0.6666666666666666,
              "#ed7953"
             ],
             [
              0.7777777777777778,
              "#fb9f3a"
             ],
             [
              0.8888888888888888,
              "#fdca26"
             ],
             [
              1,
              "#f0f921"
             ]
            ],
            "type": "contour"
           }
          ],
          "contourcarpet": [
           {
            "colorbar": {
             "outlinewidth": 0,
             "ticks": ""
            },
            "type": "contourcarpet"
           }
          ],
          "heatmap": [
           {
            "colorbar": {
             "outlinewidth": 0,
             "ticks": ""
            },
            "colorscale": [
             [
              0,
              "#0d0887"
             ],
             [
              0.1111111111111111,
              "#46039f"
             ],
             [
              0.2222222222222222,
              "#7201a8"
             ],
             [
              0.3333333333333333,
              "#9c179e"
             ],
             [
              0.4444444444444444,
              "#bd3786"
             ],
             [
              0.5555555555555556,
              "#d8576b"
             ],
             [
              0.6666666666666666,
              "#ed7953"
             ],
             [
              0.7777777777777778,
              "#fb9f3a"
             ],
             [
              0.8888888888888888,
              "#fdca26"
             ],
             [
              1,
              "#f0f921"
             ]
            ],
            "type": "heatmap"
           }
          ],
          "histogram": [
           {
            "marker": {
             "pattern": {
              "fillmode": "overlay",
              "size": 10,
              "solidity": 0.2
             }
            },
            "type": "histogram"
           }
          ],
          "histogram2d": [
           {
            "colorbar": {
             "outlinewidth": 0,
             "ticks": ""
            },
            "colorscale": [
             [
              0,
              "#0d0887"
             ],
             [
              0.1111111111111111,
              "#46039f"
             ],
             [
              0.2222222222222222,
              "#7201a8"
             ],
             [
              0.3333333333333333,
              "#9c179e"
             ],
             [
              0.4444444444444444,
              "#bd3786"
             ],
             [
              0.5555555555555556,
              "#d8576b"
             ],
             [
              0.6666666666666666,
              "#ed7953"
             ],
             [
              0.7777777777777778,
              "#fb9f3a"
             ],
             [
              0.8888888888888888,
              "#fdca26"
             ],
             [
              1,
              "#f0f921"
             ]
            ],
            "type": "histogram2d"
           }
          ],
          "histogram2dcontour": [
           {
            "colorbar": {
             "outlinewidth": 0,
             "ticks": ""
            },
            "colorscale": [
             [
              0,
              "#0d0887"
             ],
             [
              0.1111111111111111,
              "#46039f"
             ],
             [
              0.2222222222222222,
              "#7201a8"
             ],
             [
              0.3333333333333333,
              "#9c179e"
             ],
             [
              0.4444444444444444,
              "#bd3786"
             ],
             [
              0.5555555555555556,
              "#d8576b"
             ],
             [
              0.6666666666666666,
              "#ed7953"
             ],
             [
              0.7777777777777778,
              "#fb9f3a"
             ],
             [
              0.8888888888888888,
              "#fdca26"
             ],
             [
              1,
              "#f0f921"
             ]
            ],
            "type": "histogram2dcontour"
           }
          ],
          "mesh3d": [
           {
            "colorbar": {
             "outlinewidth": 0,
             "ticks": ""
            },
            "type": "mesh3d"
           }
          ],
          "parcoords": [
           {
            "line": {
             "colorbar": {
              "outlinewidth": 0,
              "ticks": ""
             }
            },
            "type": "parcoords"
           }
          ],
          "pie": [
           {
            "automargin": true,
            "type": "pie"
           }
          ],
          "scatter": [
           {
            "fillpattern": {
             "fillmode": "overlay",
             "size": 10,
             "solidity": 0.2
            },
            "type": "scatter"
           }
          ],
          "scatter3d": [
           {
            "line": {
             "colorbar": {
              "outlinewidth": 0,
              "ticks": ""
             }
            },
            "marker": {
             "colorbar": {
              "outlinewidth": 0,
              "ticks": ""
             }
            },
            "type": "scatter3d"
           }
          ],
          "scattercarpet": [
           {
            "marker": {
             "colorbar": {
              "outlinewidth": 0,
              "ticks": ""
             }
            },
            "type": "scattercarpet"
           }
          ],
          "scattergeo": [
           {
            "marker": {
             "colorbar": {
              "outlinewidth": 0,
              "ticks": ""
             }
            },
            "type": "scattergeo"
           }
          ],
          "scattergl": [
           {
            "marker": {
             "colorbar": {
              "outlinewidth": 0,
              "ticks": ""
             }
            },
            "type": "scattergl"
           }
          ],
          "scattermap": [
           {
            "marker": {
             "colorbar": {
              "outlinewidth": 0,
              "ticks": ""
             }
            },
            "type": "scattermap"
           }
          ],
          "scattermapbox": [
           {
            "marker": {
             "colorbar": {
              "outlinewidth": 0,
              "ticks": ""
             }
            },
            "type": "scattermapbox"
           }
          ],
          "scatterpolar": [
           {
            "marker": {
             "colorbar": {
              "outlinewidth": 0,
              "ticks": ""
             }
            },
            "type": "scatterpolar"
           }
          ],
          "scatterpolargl": [
           {
            "marker": {
             "colorbar": {
              "outlinewidth": 0,
              "ticks": ""
             }
            },
            "type": "scatterpolargl"
           }
          ],
          "scatterternary": [
           {
            "marker": {
             "colorbar": {
              "outlinewidth": 0,
              "ticks": ""
             }
            },
            "type": "scatterternary"
           }
          ],
          "surface": [
           {
            "colorbar": {
             "outlinewidth": 0,
             "ticks": ""
            },
            "colorscale": [
             [
              0,
              "#0d0887"
             ],
             [
              0.1111111111111111,
              "#46039f"
             ],
             [
              0.2222222222222222,
              "#7201a8"
             ],
             [
              0.3333333333333333,
              "#9c179e"
             ],
             [
              0.4444444444444444,
              "#bd3786"
             ],
             [
              0.5555555555555556,
              "#d8576b"
             ],
             [
              0.6666666666666666,
              "#ed7953"
             ],
             [
              0.7777777777777778,
              "#fb9f3a"
             ],
             [
              0.8888888888888888,
              "#fdca26"
             ],
             [
              1,
              "#f0f921"
             ]
            ],
            "type": "surface"
           }
          ],
          "table": [
           {
            "cells": {
             "fill": {
              "color": "#EBF0F8"
             },
             "line": {
              "color": "white"
             }
            },
            "header": {
             "fill": {
              "color": "#C8D4E3"
             },
             "line": {
              "color": "white"
             }
            },
            "type": "table"
           }
          ]
         },
         "layout": {
          "annotationdefaults": {
           "arrowcolor": "#2a3f5f",
           "arrowhead": 0,
           "arrowwidth": 1
          },
          "autotypenumbers": "strict",
          "coloraxis": {
           "colorbar": {
            "outlinewidth": 0,
            "ticks": ""
           }
          },
          "colorscale": {
           "diverging": [
            [
             0,
             "#8e0152"
            ],
            [
             0.1,
             "#c51b7d"
            ],
            [
             0.2,
             "#de77ae"
            ],
            [
             0.3,
             "#f1b6da"
            ],
            [
             0.4,
             "#fde0ef"
            ],
            [
             0.5,
             "#f7f7f7"
            ],
            [
             0.6,
             "#e6f5d0"
            ],
            [
             0.7,
             "#b8e186"
            ],
            [
             0.8,
             "#7fbc41"
            ],
            [
             0.9,
             "#4d9221"
            ],
            [
             1,
             "#276419"
            ]
           ],
           "sequential": [
            [
             0,
             "#0d0887"
            ],
            [
             0.1111111111111111,
             "#46039f"
            ],
            [
             0.2222222222222222,
             "#7201a8"
            ],
            [
             0.3333333333333333,
             "#9c179e"
            ],
            [
             0.4444444444444444,
             "#bd3786"
            ],
            [
             0.5555555555555556,
             "#d8576b"
            ],
            [
             0.6666666666666666,
             "#ed7953"
            ],
            [
             0.7777777777777778,
             "#fb9f3a"
            ],
            [
             0.8888888888888888,
             "#fdca26"
            ],
            [
             1,
             "#f0f921"
            ]
           ],
           "sequentialminus": [
            [
             0,
             "#0d0887"
            ],
            [
             0.1111111111111111,
             "#46039f"
            ],
            [
             0.2222222222222222,
             "#7201a8"
            ],
            [
             0.3333333333333333,
             "#9c179e"
            ],
            [
             0.4444444444444444,
             "#bd3786"
            ],
            [
             0.5555555555555556,
             "#d8576b"
            ],
            [
             0.6666666666666666,
             "#ed7953"
            ],
            [
             0.7777777777777778,
             "#fb9f3a"
            ],
            [
             0.8888888888888888,
             "#fdca26"
            ],
            [
             1,
             "#f0f921"
            ]
           ]
          },
          "colorway": [
           "#636efa",
           "#EF553B",
           "#00cc96",
           "#ab63fa",
           "#FFA15A",
           "#19d3f3",
           "#FF6692",
           "#B6E880",
           "#FF97FF",
           "#FECB52"
          ],
          "font": {
           "color": "#2a3f5f"
          },
          "geo": {
           "bgcolor": "white",
           "lakecolor": "white",
           "landcolor": "#E5ECF6",
           "showlakes": true,
           "showland": true,
           "subunitcolor": "white"
          },
          "hoverlabel": {
           "align": "left"
          },
          "hovermode": "closest",
          "mapbox": {
           "style": "light"
          },
          "paper_bgcolor": "white",
          "plot_bgcolor": "#E5ECF6",
          "polar": {
           "angularaxis": {
            "gridcolor": "white",
            "linecolor": "white",
            "ticks": ""
           },
           "bgcolor": "#E5ECF6",
           "radialaxis": {
            "gridcolor": "white",
            "linecolor": "white",
            "ticks": ""
           }
          },
          "scene": {
           "xaxis": {
            "backgroundcolor": "#E5ECF6",
            "gridcolor": "white",
            "gridwidth": 2,
            "linecolor": "white",
            "showbackground": true,
            "ticks": "",
            "zerolinecolor": "white"
           },
           "yaxis": {
            "backgroundcolor": "#E5ECF6",
            "gridcolor": "white",
            "gridwidth": 2,
            "linecolor": "white",
            "showbackground": true,
            "ticks": "",
            "zerolinecolor": "white"
           },
           "zaxis": {
            "backgroundcolor": "#E5ECF6",
            "gridcolor": "white",
            "gridwidth": 2,
            "linecolor": "white",
            "showbackground": true,
            "ticks": "",
            "zerolinecolor": "white"
           }
          },
          "shapedefaults": {
           "line": {
            "color": "#2a3f5f"
           }
          },
          "ternary": {
           "aaxis": {
            "gridcolor": "white",
            "linecolor": "white",
            "ticks": ""
           },
           "baxis": {
            "gridcolor": "white",
            "linecolor": "white",
            "ticks": ""
           },
           "bgcolor": "#E5ECF6",
           "caxis": {
            "gridcolor": "white",
            "linecolor": "white",
            "ticks": ""
           }
          },
          "title": {
           "x": 0.05
          },
          "xaxis": {
           "automargin": true,
           "gridcolor": "white",
           "linecolor": "white",
           "ticks": "",
           "title": {
            "standoff": 15
           },
           "zerolinecolor": "white",
           "zerolinewidth": 2
          },
          "yaxis": {
           "automargin": true,
           "gridcolor": "white",
           "linecolor": "white",
           "ticks": "",
           "title": {
            "standoff": 15
           },
           "zerolinecolor": "white",
           "zerolinewidth": 2
          }
         }
        },
        "title": {
         "text": "Top 10 Hashtags by Normalized Impact (Avg Views / Log(Hashtag Frequency))"
        },
        "xaxis": {
         "anchor": "y",
         "domain": [
          0,
          1
         ],
         "tickangle": -45,
         "title": {
          "text": "x"
         }
        },
        "yaxis": {
         "anchor": "x",
         "domain": [
          0,
          1
         ],
         "title": {
          "text": "Normalized Impact"
         }
        }
       }
      }
     },
     "metadata": {},
     "output_type": "display_data"
    },
    {
     "data": {
      "application/vnd.plotly.v1+json": {
       "config": {
        "plotlyServerURL": "https://plot.ly"
       },
       "data": [
        {
         "hovertemplate": "<b>%{hovertext}</b><br><br>Hashtag Frequency=%{x}<br>Average Views=%{y}<br>normalized_score=%{marker.color}<extra></extra>",
         "hovertext": [
          "#leagueoflegends",
          "#shorts",
          "#arctober",
          "#arcane",
          "#arcanefics",
          "#riotgames"
         ],
         "legendgroup": "",
         "marker": {
          "color": {
           "bdata": "tUhZsecW4UBTf8SAT9/fQEG9r8DFktlA0/k35xc52UAbWPvH8R/CQBtY+8fxH8JA",
           "dtype": "f8"
          },
          "coloraxis": "coloraxis",
          "size": {
           "bdata": "tUhZsecW4UBTf8SAT9/fQEG9r8DFktlA0/k35xc52UAbWPvH8R/CQBtY+8fxH8JA",
           "dtype": "f8"
          },
          "sizemode": "area",
          "sizeref": 87.49810099754812,
          "symbol": "circle"
         },
         "mode": "markers",
         "name": "",
         "orientation": "v",
         "showlegend": false,
         "type": "scatter",
         "x": {
          "bdata": "OUocYAIC",
          "dtype": "i1"
         },
         "xaxis": "x",
         "y": {
          "bdata": "lNdQXgNZAUFvMEU+dzMBQdu2bds6h/VAAAAAgNXY/EAAAAAAgOnDQAAAAACA6cNA",
          "dtype": "f8"
         },
         "yaxis": "y"
        }
       ],
       "layout": {
        "coloraxis": {
         "colorbar": {
          "title": {
           "text": "normalized_score"
          }
         },
         "colorscale": [
          [
           0,
           "#440154"
          ],
          [
           0.1111111111111111,
           "#482878"
          ],
          [
           0.2222222222222222,
           "#3e4989"
          ],
          [
           0.3333333333333333,
           "#31688e"
          ],
          [
           0.4444444444444444,
           "#26828e"
          ],
          [
           0.5555555555555556,
           "#1f9e89"
          ],
          [
           0.6666666666666666,
           "#35b779"
          ],
          [
           0.7777777777777778,
           "#6ece58"
          ],
          [
           0.8888888888888888,
           "#b5de2b"
          ],
          [
           1,
           "#fde725"
          ]
         ]
        },
        "legend": {
         "itemsizing": "constant",
         "tracegroupgap": 0
        },
        "showlegend": false,
        "template": {
         "data": {
          "bar": [
           {
            "error_x": {
             "color": "#2a3f5f"
            },
            "error_y": {
             "color": "#2a3f5f"
            },
            "marker": {
             "line": {
              "color": "#E5ECF6",
              "width": 0.5
             },
             "pattern": {
              "fillmode": "overlay",
              "size": 10,
              "solidity": 0.2
             }
            },
            "type": "bar"
           }
          ],
          "barpolar": [
           {
            "marker": {
             "line": {
              "color": "#E5ECF6",
              "width": 0.5
             },
             "pattern": {
              "fillmode": "overlay",
              "size": 10,
              "solidity": 0.2
             }
            },
            "type": "barpolar"
           }
          ],
          "carpet": [
           {
            "aaxis": {
             "endlinecolor": "#2a3f5f",
             "gridcolor": "white",
             "linecolor": "white",
             "minorgridcolor": "white",
             "startlinecolor": "#2a3f5f"
            },
            "baxis": {
             "endlinecolor": "#2a3f5f",
             "gridcolor": "white",
             "linecolor": "white",
             "minorgridcolor": "white",
             "startlinecolor": "#2a3f5f"
            },
            "type": "carpet"
           }
          ],
          "choropleth": [
           {
            "colorbar": {
             "outlinewidth": 0,
             "ticks": ""
            },
            "type": "choropleth"
           }
          ],
          "contour": [
           {
            "colorbar": {
             "outlinewidth": 0,
             "ticks": ""
            },
            "colorscale": [
             [
              0,
              "#0d0887"
             ],
             [
              0.1111111111111111,
              "#46039f"
             ],
             [
              0.2222222222222222,
              "#7201a8"
             ],
             [
              0.3333333333333333,
              "#9c179e"
             ],
             [
              0.4444444444444444,
              "#bd3786"
             ],
             [
              0.5555555555555556,
              "#d8576b"
             ],
             [
              0.6666666666666666,
              "#ed7953"
             ],
             [
              0.7777777777777778,
              "#fb9f3a"
             ],
             [
              0.8888888888888888,
              "#fdca26"
             ],
             [
              1,
              "#f0f921"
             ]
            ],
            "type": "contour"
           }
          ],
          "contourcarpet": [
           {
            "colorbar": {
             "outlinewidth": 0,
             "ticks": ""
            },
            "type": "contourcarpet"
           }
          ],
          "heatmap": [
           {
            "colorbar": {
             "outlinewidth": 0,
             "ticks": ""
            },
            "colorscale": [
             [
              0,
              "#0d0887"
             ],
             [
              0.1111111111111111,
              "#46039f"
             ],
             [
              0.2222222222222222,
              "#7201a8"
             ],
             [
              0.3333333333333333,
              "#9c179e"
             ],
             [
              0.4444444444444444,
              "#bd3786"
             ],
             [
              0.5555555555555556,
              "#d8576b"
             ],
             [
              0.6666666666666666,
              "#ed7953"
             ],
             [
              0.7777777777777778,
              "#fb9f3a"
             ],
             [
              0.8888888888888888,
              "#fdca26"
             ],
             [
              1,
              "#f0f921"
             ]
            ],
            "type": "heatmap"
           }
          ],
          "histogram": [
           {
            "marker": {
             "pattern": {
              "fillmode": "overlay",
              "size": 10,
              "solidity": 0.2
             }
            },
            "type": "histogram"
           }
          ],
          "histogram2d": [
           {
            "colorbar": {
             "outlinewidth": 0,
             "ticks": ""
            },
            "colorscale": [
             [
              0,
              "#0d0887"
             ],
             [
              0.1111111111111111,
              "#46039f"
             ],
             [
              0.2222222222222222,
              "#7201a8"
             ],
             [
              0.3333333333333333,
              "#9c179e"
             ],
             [
              0.4444444444444444,
              "#bd3786"
             ],
             [
              0.5555555555555556,
              "#d8576b"
             ],
             [
              0.6666666666666666,
              "#ed7953"
             ],
             [
              0.7777777777777778,
              "#fb9f3a"
             ],
             [
              0.8888888888888888,
              "#fdca26"
             ],
             [
              1,
              "#f0f921"
             ]
            ],
            "type": "histogram2d"
           }
          ],
          "histogram2dcontour": [
           {
            "colorbar": {
             "outlinewidth": 0,
             "ticks": ""
            },
            "colorscale": [
             [
              0,
              "#0d0887"
             ],
             [
              0.1111111111111111,
              "#46039f"
             ],
             [
              0.2222222222222222,
              "#7201a8"
             ],
             [
              0.3333333333333333,
              "#9c179e"
             ],
             [
              0.4444444444444444,
              "#bd3786"
             ],
             [
              0.5555555555555556,
              "#d8576b"
             ],
             [
              0.6666666666666666,
              "#ed7953"
             ],
             [
              0.7777777777777778,
              "#fb9f3a"
             ],
             [
              0.8888888888888888,
              "#fdca26"
             ],
             [
              1,
              "#f0f921"
             ]
            ],
            "type": "histogram2dcontour"
           }
          ],
          "mesh3d": [
           {
            "colorbar": {
             "outlinewidth": 0,
             "ticks": ""
            },
            "type": "mesh3d"
           }
          ],
          "parcoords": [
           {
            "line": {
             "colorbar": {
              "outlinewidth": 0,
              "ticks": ""
             }
            },
            "type": "parcoords"
           }
          ],
          "pie": [
           {
            "automargin": true,
            "type": "pie"
           }
          ],
          "scatter": [
           {
            "fillpattern": {
             "fillmode": "overlay",
             "size": 10,
             "solidity": 0.2
            },
            "type": "scatter"
           }
          ],
          "scatter3d": [
           {
            "line": {
             "colorbar": {
              "outlinewidth": 0,
              "ticks": ""
             }
            },
            "marker": {
             "colorbar": {
              "outlinewidth": 0,
              "ticks": ""
             }
            },
            "type": "scatter3d"
           }
          ],
          "scattercarpet": [
           {
            "marker": {
             "colorbar": {
              "outlinewidth": 0,
              "ticks": ""
             }
            },
            "type": "scattercarpet"
           }
          ],
          "scattergeo": [
           {
            "marker": {
             "colorbar": {
              "outlinewidth": 0,
              "ticks": ""
             }
            },
            "type": "scattergeo"
           }
          ],
          "scattergl": [
           {
            "marker": {
             "colorbar": {
              "outlinewidth": 0,
              "ticks": ""
             }
            },
            "type": "scattergl"
           }
          ],
          "scattermap": [
           {
            "marker": {
             "colorbar": {
              "outlinewidth": 0,
              "ticks": ""
             }
            },
            "type": "scattermap"
           }
          ],
          "scattermapbox": [
           {
            "marker": {
             "colorbar": {
              "outlinewidth": 0,
              "ticks": ""
             }
            },
            "type": "scattermapbox"
           }
          ],
          "scatterpolar": [
           {
            "marker": {
             "colorbar": {
              "outlinewidth": 0,
              "ticks": ""
             }
            },
            "type": "scatterpolar"
           }
          ],
          "scatterpolargl": [
           {
            "marker": {
             "colorbar": {
              "outlinewidth": 0,
              "ticks": ""
             }
            },
            "type": "scatterpolargl"
           }
          ],
          "scatterternary": [
           {
            "marker": {
             "colorbar": {
              "outlinewidth": 0,
              "ticks": ""
             }
            },
            "type": "scatterternary"
           }
          ],
          "surface": [
           {
            "colorbar": {
             "outlinewidth": 0,
             "ticks": ""
            },
            "colorscale": [
             [
              0,
              "#0d0887"
             ],
             [
              0.1111111111111111,
              "#46039f"
             ],
             [
              0.2222222222222222,
              "#7201a8"
             ],
             [
              0.3333333333333333,
              "#9c179e"
             ],
             [
              0.4444444444444444,
              "#bd3786"
             ],
             [
              0.5555555555555556,
              "#d8576b"
             ],
             [
              0.6666666666666666,
              "#ed7953"
             ],
             [
              0.7777777777777778,
              "#fb9f3a"
             ],
             [
              0.8888888888888888,
              "#fdca26"
             ],
             [
              1,
              "#f0f921"
             ]
            ],
            "type": "surface"
           }
          ],
          "table": [
           {
            "cells": {
             "fill": {
              "color": "#EBF0F8"
             },
             "line": {
              "color": "white"
             }
            },
            "header": {
             "fill": {
              "color": "#C8D4E3"
             },
             "line": {
              "color": "white"
             }
            },
            "type": "table"
           }
          ]
         },
         "layout": {
          "annotationdefaults": {
           "arrowcolor": "#2a3f5f",
           "arrowhead": 0,
           "arrowwidth": 1
          },
          "autotypenumbers": "strict",
          "coloraxis": {
           "colorbar": {
            "outlinewidth": 0,
            "ticks": ""
           }
          },
          "colorscale": {
           "diverging": [
            [
             0,
             "#8e0152"
            ],
            [
             0.1,
             "#c51b7d"
            ],
            [
             0.2,
             "#de77ae"
            ],
            [
             0.3,
             "#f1b6da"
            ],
            [
             0.4,
             "#fde0ef"
            ],
            [
             0.5,
             "#f7f7f7"
            ],
            [
             0.6,
             "#e6f5d0"
            ],
            [
             0.7,
             "#b8e186"
            ],
            [
             0.8,
             "#7fbc41"
            ],
            [
             0.9,
             "#4d9221"
            ],
            [
             1,
             "#276419"
            ]
           ],
           "sequential": [
            [
             0,
             "#0d0887"
            ],
            [
             0.1111111111111111,
             "#46039f"
            ],
            [
             0.2222222222222222,
             "#7201a8"
            ],
            [
             0.3333333333333333,
             "#9c179e"
            ],
            [
             0.4444444444444444,
             "#bd3786"
            ],
            [
             0.5555555555555556,
             "#d8576b"
            ],
            [
             0.6666666666666666,
             "#ed7953"
            ],
            [
             0.7777777777777778,
             "#fb9f3a"
            ],
            [
             0.8888888888888888,
             "#fdca26"
            ],
            [
             1,
             "#f0f921"
            ]
           ],
           "sequentialminus": [
            [
             0,
             "#0d0887"
            ],
            [
             0.1111111111111111,
             "#46039f"
            ],
            [
             0.2222222222222222,
             "#7201a8"
            ],
            [
             0.3333333333333333,
             "#9c179e"
            ],
            [
             0.4444444444444444,
             "#bd3786"
            ],
            [
             0.5555555555555556,
             "#d8576b"
            ],
            [
             0.6666666666666666,
             "#ed7953"
            ],
            [
             0.7777777777777778,
             "#fb9f3a"
            ],
            [
             0.8888888888888888,
             "#fdca26"
            ],
            [
             1,
             "#f0f921"
            ]
           ]
          },
          "colorway": [
           "#636efa",
           "#EF553B",
           "#00cc96",
           "#ab63fa",
           "#FFA15A",
           "#19d3f3",
           "#FF6692",
           "#B6E880",
           "#FF97FF",
           "#FECB52"
          ],
          "font": {
           "color": "#2a3f5f"
          },
          "geo": {
           "bgcolor": "white",
           "lakecolor": "white",
           "landcolor": "#E5ECF6",
           "showlakes": true,
           "showland": true,
           "subunitcolor": "white"
          },
          "hoverlabel": {
           "align": "left"
          },
          "hovermode": "closest",
          "mapbox": {
           "style": "light"
          },
          "paper_bgcolor": "white",
          "plot_bgcolor": "#E5ECF6",
          "polar": {
           "angularaxis": {
            "gridcolor": "white",
            "linecolor": "white",
            "ticks": ""
           },
           "bgcolor": "#E5ECF6",
           "radialaxis": {
            "gridcolor": "white",
            "linecolor": "white",
            "ticks": ""
           }
          },
          "scene": {
           "xaxis": {
            "backgroundcolor": "#E5ECF6",
            "gridcolor": "white",
            "gridwidth": 2,
            "linecolor": "white",
            "showbackground": true,
            "ticks": "",
            "zerolinecolor": "white"
           },
           "yaxis": {
            "backgroundcolor": "#E5ECF6",
            "gridcolor": "white",
            "gridwidth": 2,
            "linecolor": "white",
            "showbackground": true,
            "ticks": "",
            "zerolinecolor": "white"
           },
           "zaxis": {
            "backgroundcolor": "#E5ECF6",
            "gridcolor": "white",
            "gridwidth": 2,
            "linecolor": "white",
            "showbackground": true,
            "ticks": "",
            "zerolinecolor": "white"
           }
          },
          "shapedefaults": {
           "line": {
            "color": "#2a3f5f"
           }
          },
          "ternary": {
           "aaxis": {
            "gridcolor": "white",
            "linecolor": "white",
            "ticks": ""
           },
           "baxis": {
            "gridcolor": "white",
            "linecolor": "white",
            "ticks": ""
           },
           "bgcolor": "#E5ECF6",
           "caxis": {
            "gridcolor": "white",
            "linecolor": "white",
            "ticks": ""
           }
          },
          "title": {
           "x": 0.05
          },
          "xaxis": {
           "automargin": true,
           "gridcolor": "white",
           "linecolor": "white",
           "ticks": "",
           "title": {
            "standoff": 15
           },
           "zerolinecolor": "white",
           "zerolinewidth": 2
          },
          "yaxis": {
           "automargin": true,
           "gridcolor": "white",
           "linecolor": "white",
           "ticks": "",
           "title": {
            "standoff": 15
           },
           "zerolinecolor": "white",
           "zerolinewidth": 2
          }
         }
        },
        "title": {
         "text": "Hashtag Frequency vs Average Views with Normalized Impact"
        },
        "xaxis": {
         "anchor": "y",
         "domain": [
          0,
          1
         ],
         "title": {
          "text": "Hashtag Frequency"
         }
        },
        "yaxis": {
         "anchor": "x",
         "domain": [
          0,
          1
         ],
         "title": {
          "text": "Average Views"
         }
        }
       }
      }
     },
     "metadata": {},
     "output_type": "display_data"
    }
   ],
   "source": [
    "# Normalize data to account for outliers\n",
    "hashtag_stats['normalized_score'] = hashtag_stats['avg_views'] / np.log1p(hashtag_stats['count'])\n",
    "\n",
    "# Sort by normalized impact\n",
    "top_tags = hashtag_stats.sort_values('normalized_score', ascending=False)\n",
    "\n",
    "# Visualizing the normalized impact of top hashtags\n",
    "fig1 = px.bar(\n",
    "    top_tags.head(10),  # Show top 10 hashtags\n",
    "    x=top_tags.head(10).index,\n",
    "    y='normalized_score',\n",
    "    title=\"Top 10 Hashtags by Normalized Impact (Avg Views / Log(Hashtag Frequency))\",\n",
    "    labels={'normalized_score': 'Normalized Impact', 'index': 'Hashtags'},\n",
    "    color='normalized_score',\n",
    "    color_continuous_scale='YlOrRd'\n",
    ")\n",
    "\n",
    "fig1.update_layout(xaxis_tickangle=-45)\n",
    "fig1.show()\n",
    "\n",
    "# Bubble chart: Relationship between hashtag frequency, avg views, and normalized score\n",
    "fig2 = px.scatter(\n",
    "    top_tags.head(10),\n",
    "    x='count',  # Hashtag frequency\n",
    "    y='avg_views',  # Average views per hashtag\n",
    "    size='normalized_score',  # Bubble size based on normalized score\n",
    "    color='normalized_score',  # Color based on normalized score\n",
    "    hover_name=top_tags.head(10).index,\n",
    "    title=\"Hashtag Frequency vs Average Views with Normalized Impact\",\n",
    "    labels={'count': 'Hashtag Frequency', 'avg_views': 'Average Views'},\n",
    "    color_continuous_scale='Viridis'\n",
    ")\n",
    "\n",
    "fig2.update_layout(showlegend=False)\n",
    "fig2.show()"
   ]
  },
  {
   "cell_type": "markdown",
   "id": "71688d8f",
   "metadata": {},
   "source": [
    "- Even after normalizaiton, the most affective hashtag at garnering views was #leagueoflegends\n",
    "- Shorts should thereby have this hashtag by default whenever possible"
   ]
  },
  {
   "cell_type": "markdown",
   "id": "341be25b",
   "metadata": {},
   "source": [
    "## Machine Learning Model"
   ]
  },
  {
   "cell_type": "code",
   "execution_count": 30,
   "id": "e17a4983",
   "metadata": {},
   "outputs": [],
   "source": [
    "from sklearn.tree import DecisionTreeClassifier, plot_tree\n",
    "from sklearn.model_selection import train_test_split\n",
    "from sklearn.metrics import classification_report\n",
    "import matplotlib.pyplot as plt"
   ]
  },
  {
   "cell_type": "code",
   "execution_count": 31,
   "id": "225a6fd4",
   "metadata": {},
   "outputs": [],
   "source": [
    "df = content.copy()\n",
    "\n",
    "# Drop na or invalid entries\n",
    "df = df[pd.to_numeric(df['Views'], errors='coerce').notna()].copy()\n",
    "df['Views'] = df['Views'].astype(float)\n",
    "views_z = zscore(df['Views'])"
   ]
  },
  {
   "cell_type": "code",
   "execution_count": 32,
   "id": "04b119b6",
   "metadata": {},
   "outputs": [],
   "source": [
    "view_level = pd.qcut(\n",
    "    df['Views'].astype(float), \n",
    "    q=3, \n",
    "    labels=['Low', 'Medium', 'High']\n",
    ")\n"
   ]
  },
  {
   "cell_type": "code",
   "execution_count": 33,
   "id": "46316b8c",
   "metadata": {},
   "outputs": [
    {
     "data": {
      "text/plain": [
       "Index(['Content', 'Video title', 'Video publish time', 'Duration', 'Views',\n",
       "       'Watch time (hours)', 'Subscribers', 'Average view duration',\n",
       "       'Impressions', 'Impressions CTR', 'Duration_sec', 'Runtime_Category',\n",
       "       'Publish_Day', 'Hashtags_List'],\n",
       "      dtype='object')"
      ]
     },
     "execution_count": 33,
     "metadata": {},
     "output_type": "execute_result"
    }
   ],
   "source": [
    "df.columns"
   ]
  },
  {
   "cell_type": "code",
   "execution_count": 34,
   "id": "0522183c",
   "metadata": {},
   "outputs": [],
   "source": [
    "# Set up random forest model\n",
    "model_df = pd.DataFrame({\n",
    "    'Duration_sec': df['Duration_sec'],\n",
    "    'Watchtime': df['Watch time (hours)'].dt.total_seconds() / 3600,\n",
    "    'Impressions': df['Impressions CTR'],\n",
    "    'view_level': view_level\n",
    "})\n",
    "\n",
    "\n",
    "model_df.dropna(inplace=True)"
   ]
  },
  {
   "cell_type": "code",
   "execution_count": 35,
   "id": "407eac70",
   "metadata": {},
   "outputs": [],
   "source": [
    "# Set independent and dependent variables\n",
    "X = model_df[['Duration_sec', 'Watchtime', 'Impressions']]\n",
    "y = model_df['view_level']"
   ]
  },
  {
   "cell_type": "code",
   "execution_count": 36,
   "id": "92b21b3e",
   "metadata": {},
   "outputs": [],
   "source": [
    "# Set train test split\n",
    "X_train, X_test, y_train, y_test = train_test_split(X, y, test_size=0.15, random_state=42)"
   ]
  },
  {
   "cell_type": "code",
   "execution_count": 37,
   "id": "6dd218ca",
   "metadata": {},
   "outputs": [
    {
     "data": {
      "text/html": [
       "<style>#sk-container-id-1 {\n",
       "  /* Definition of color scheme common for light and dark mode */\n",
       "  --sklearn-color-text: #000;\n",
       "  --sklearn-color-text-muted: #666;\n",
       "  --sklearn-color-line: gray;\n",
       "  /* Definition of color scheme for unfitted estimators */\n",
       "  --sklearn-color-unfitted-level-0: #fff5e6;\n",
       "  --sklearn-color-unfitted-level-1: #f6e4d2;\n",
       "  --sklearn-color-unfitted-level-2: #ffe0b3;\n",
       "  --sklearn-color-unfitted-level-3: chocolate;\n",
       "  /* Definition of color scheme for fitted estimators */\n",
       "  --sklearn-color-fitted-level-0: #f0f8ff;\n",
       "  --sklearn-color-fitted-level-1: #d4ebff;\n",
       "  --sklearn-color-fitted-level-2: #b3dbfd;\n",
       "  --sklearn-color-fitted-level-3: cornflowerblue;\n",
       "\n",
       "  /* Specific color for light theme */\n",
       "  --sklearn-color-text-on-default-background: var(--sg-text-color, var(--theme-code-foreground, var(--jp-content-font-color1, black)));\n",
       "  --sklearn-color-background: var(--sg-background-color, var(--theme-background, var(--jp-layout-color0, white)));\n",
       "  --sklearn-color-border-box: var(--sg-text-color, var(--theme-code-foreground, var(--jp-content-font-color1, black)));\n",
       "  --sklearn-color-icon: #696969;\n",
       "\n",
       "  @media (prefers-color-scheme: dark) {\n",
       "    /* Redefinition of color scheme for dark theme */\n",
       "    --sklearn-color-text-on-default-background: var(--sg-text-color, var(--theme-code-foreground, var(--jp-content-font-color1, white)));\n",
       "    --sklearn-color-background: var(--sg-background-color, var(--theme-background, var(--jp-layout-color0, #111)));\n",
       "    --sklearn-color-border-box: var(--sg-text-color, var(--theme-code-foreground, var(--jp-content-font-color1, white)));\n",
       "    --sklearn-color-icon: #878787;\n",
       "  }\n",
       "}\n",
       "\n",
       "#sk-container-id-1 {\n",
       "  color: var(--sklearn-color-text);\n",
       "}\n",
       "\n",
       "#sk-container-id-1 pre {\n",
       "  padding: 0;\n",
       "}\n",
       "\n",
       "#sk-container-id-1 input.sk-hidden--visually {\n",
       "  border: 0;\n",
       "  clip: rect(1px 1px 1px 1px);\n",
       "  clip: rect(1px, 1px, 1px, 1px);\n",
       "  height: 1px;\n",
       "  margin: -1px;\n",
       "  overflow: hidden;\n",
       "  padding: 0;\n",
       "  position: absolute;\n",
       "  width: 1px;\n",
       "}\n",
       "\n",
       "#sk-container-id-1 div.sk-dashed-wrapped {\n",
       "  border: 1px dashed var(--sklearn-color-line);\n",
       "  margin: 0 0.4em 0.5em 0.4em;\n",
       "  box-sizing: border-box;\n",
       "  padding-bottom: 0.4em;\n",
       "  background-color: var(--sklearn-color-background);\n",
       "}\n",
       "\n",
       "#sk-container-id-1 div.sk-container {\n",
       "  /* jupyter's `normalize.less` sets `[hidden] { display: none; }`\n",
       "     but bootstrap.min.css set `[hidden] { display: none !important; }`\n",
       "     so we also need the `!important` here to be able to override the\n",
       "     default hidden behavior on the sphinx rendered scikit-learn.org.\n",
       "     See: https://github.com/scikit-learn/scikit-learn/issues/21755 */\n",
       "  display: inline-block !important;\n",
       "  position: relative;\n",
       "}\n",
       "\n",
       "#sk-container-id-1 div.sk-text-repr-fallback {\n",
       "  display: none;\n",
       "}\n",
       "\n",
       "div.sk-parallel-item,\n",
       "div.sk-serial,\n",
       "div.sk-item {\n",
       "  /* draw centered vertical line to link estimators */\n",
       "  background-image: linear-gradient(var(--sklearn-color-text-on-default-background), var(--sklearn-color-text-on-default-background));\n",
       "  background-size: 2px 100%;\n",
       "  background-repeat: no-repeat;\n",
       "  background-position: center center;\n",
       "}\n",
       "\n",
       "/* Parallel-specific style estimator block */\n",
       "\n",
       "#sk-container-id-1 div.sk-parallel-item::after {\n",
       "  content: \"\";\n",
       "  width: 100%;\n",
       "  border-bottom: 2px solid var(--sklearn-color-text-on-default-background);\n",
       "  flex-grow: 1;\n",
       "}\n",
       "\n",
       "#sk-container-id-1 div.sk-parallel {\n",
       "  display: flex;\n",
       "  align-items: stretch;\n",
       "  justify-content: center;\n",
       "  background-color: var(--sklearn-color-background);\n",
       "  position: relative;\n",
       "}\n",
       "\n",
       "#sk-container-id-1 div.sk-parallel-item {\n",
       "  display: flex;\n",
       "  flex-direction: column;\n",
       "}\n",
       "\n",
       "#sk-container-id-1 div.sk-parallel-item:first-child::after {\n",
       "  align-self: flex-end;\n",
       "  width: 50%;\n",
       "}\n",
       "\n",
       "#sk-container-id-1 div.sk-parallel-item:last-child::after {\n",
       "  align-self: flex-start;\n",
       "  width: 50%;\n",
       "}\n",
       "\n",
       "#sk-container-id-1 div.sk-parallel-item:only-child::after {\n",
       "  width: 0;\n",
       "}\n",
       "\n",
       "/* Serial-specific style estimator block */\n",
       "\n",
       "#sk-container-id-1 div.sk-serial {\n",
       "  display: flex;\n",
       "  flex-direction: column;\n",
       "  align-items: center;\n",
       "  background-color: var(--sklearn-color-background);\n",
       "  padding-right: 1em;\n",
       "  padding-left: 1em;\n",
       "}\n",
       "\n",
       "\n",
       "/* Toggleable style: style used for estimator/Pipeline/ColumnTransformer box that is\n",
       "clickable and can be expanded/collapsed.\n",
       "- Pipeline and ColumnTransformer use this feature and define the default style\n",
       "- Estimators will overwrite some part of the style using the `sk-estimator` class\n",
       "*/\n",
       "\n",
       "/* Pipeline and ColumnTransformer style (default) */\n",
       "\n",
       "#sk-container-id-1 div.sk-toggleable {\n",
       "  /* Default theme specific background. It is overwritten whether we have a\n",
       "  specific estimator or a Pipeline/ColumnTransformer */\n",
       "  background-color: var(--sklearn-color-background);\n",
       "}\n",
       "\n",
       "/* Toggleable label */\n",
       "#sk-container-id-1 label.sk-toggleable__label {\n",
       "  cursor: pointer;\n",
       "  display: flex;\n",
       "  width: 100%;\n",
       "  margin-bottom: 0;\n",
       "  padding: 0.5em;\n",
       "  box-sizing: border-box;\n",
       "  text-align: center;\n",
       "  align-items: start;\n",
       "  justify-content: space-between;\n",
       "  gap: 0.5em;\n",
       "}\n",
       "\n",
       "#sk-container-id-1 label.sk-toggleable__label .caption {\n",
       "  font-size: 0.6rem;\n",
       "  font-weight: lighter;\n",
       "  color: var(--sklearn-color-text-muted);\n",
       "}\n",
       "\n",
       "#sk-container-id-1 label.sk-toggleable__label-arrow:before {\n",
       "  /* Arrow on the left of the label */\n",
       "  content: \"▸\";\n",
       "  float: left;\n",
       "  margin-right: 0.25em;\n",
       "  color: var(--sklearn-color-icon);\n",
       "}\n",
       "\n",
       "#sk-container-id-1 label.sk-toggleable__label-arrow:hover:before {\n",
       "  color: var(--sklearn-color-text);\n",
       "}\n",
       "\n",
       "/* Toggleable content - dropdown */\n",
       "\n",
       "#sk-container-id-1 div.sk-toggleable__content {\n",
       "  max-height: 0;\n",
       "  max-width: 0;\n",
       "  overflow: hidden;\n",
       "  text-align: left;\n",
       "  /* unfitted */\n",
       "  background-color: var(--sklearn-color-unfitted-level-0);\n",
       "}\n",
       "\n",
       "#sk-container-id-1 div.sk-toggleable__content.fitted {\n",
       "  /* fitted */\n",
       "  background-color: var(--sklearn-color-fitted-level-0);\n",
       "}\n",
       "\n",
       "#sk-container-id-1 div.sk-toggleable__content pre {\n",
       "  margin: 0.2em;\n",
       "  border-radius: 0.25em;\n",
       "  color: var(--sklearn-color-text);\n",
       "  /* unfitted */\n",
       "  background-color: var(--sklearn-color-unfitted-level-0);\n",
       "}\n",
       "\n",
       "#sk-container-id-1 div.sk-toggleable__content.fitted pre {\n",
       "  /* unfitted */\n",
       "  background-color: var(--sklearn-color-fitted-level-0);\n",
       "}\n",
       "\n",
       "#sk-container-id-1 input.sk-toggleable__control:checked~div.sk-toggleable__content {\n",
       "  /* Expand drop-down */\n",
       "  max-height: 200px;\n",
       "  max-width: 100%;\n",
       "  overflow: auto;\n",
       "}\n",
       "\n",
       "#sk-container-id-1 input.sk-toggleable__control:checked~label.sk-toggleable__label-arrow:before {\n",
       "  content: \"▾\";\n",
       "}\n",
       "\n",
       "/* Pipeline/ColumnTransformer-specific style */\n",
       "\n",
       "#sk-container-id-1 div.sk-label input.sk-toggleable__control:checked~label.sk-toggleable__label {\n",
       "  color: var(--sklearn-color-text);\n",
       "  background-color: var(--sklearn-color-unfitted-level-2);\n",
       "}\n",
       "\n",
       "#sk-container-id-1 div.sk-label.fitted input.sk-toggleable__control:checked~label.sk-toggleable__label {\n",
       "  background-color: var(--sklearn-color-fitted-level-2);\n",
       "}\n",
       "\n",
       "/* Estimator-specific style */\n",
       "\n",
       "/* Colorize estimator box */\n",
       "#sk-container-id-1 div.sk-estimator input.sk-toggleable__control:checked~label.sk-toggleable__label {\n",
       "  /* unfitted */\n",
       "  background-color: var(--sklearn-color-unfitted-level-2);\n",
       "}\n",
       "\n",
       "#sk-container-id-1 div.sk-estimator.fitted input.sk-toggleable__control:checked~label.sk-toggleable__label {\n",
       "  /* fitted */\n",
       "  background-color: var(--sklearn-color-fitted-level-2);\n",
       "}\n",
       "\n",
       "#sk-container-id-1 div.sk-label label.sk-toggleable__label,\n",
       "#sk-container-id-1 div.sk-label label {\n",
       "  /* The background is the default theme color */\n",
       "  color: var(--sklearn-color-text-on-default-background);\n",
       "}\n",
       "\n",
       "/* On hover, darken the color of the background */\n",
       "#sk-container-id-1 div.sk-label:hover label.sk-toggleable__label {\n",
       "  color: var(--sklearn-color-text);\n",
       "  background-color: var(--sklearn-color-unfitted-level-2);\n",
       "}\n",
       "\n",
       "/* Label box, darken color on hover, fitted */\n",
       "#sk-container-id-1 div.sk-label.fitted:hover label.sk-toggleable__label.fitted {\n",
       "  color: var(--sklearn-color-text);\n",
       "  background-color: var(--sklearn-color-fitted-level-2);\n",
       "}\n",
       "\n",
       "/* Estimator label */\n",
       "\n",
       "#sk-container-id-1 div.sk-label label {\n",
       "  font-family: monospace;\n",
       "  font-weight: bold;\n",
       "  display: inline-block;\n",
       "  line-height: 1.2em;\n",
       "}\n",
       "\n",
       "#sk-container-id-1 div.sk-label-container {\n",
       "  text-align: center;\n",
       "}\n",
       "\n",
       "/* Estimator-specific */\n",
       "#sk-container-id-1 div.sk-estimator {\n",
       "  font-family: monospace;\n",
       "  border: 1px dotted var(--sklearn-color-border-box);\n",
       "  border-radius: 0.25em;\n",
       "  box-sizing: border-box;\n",
       "  margin-bottom: 0.5em;\n",
       "  /* unfitted */\n",
       "  background-color: var(--sklearn-color-unfitted-level-0);\n",
       "}\n",
       "\n",
       "#sk-container-id-1 div.sk-estimator.fitted {\n",
       "  /* fitted */\n",
       "  background-color: var(--sklearn-color-fitted-level-0);\n",
       "}\n",
       "\n",
       "/* on hover */\n",
       "#sk-container-id-1 div.sk-estimator:hover {\n",
       "  /* unfitted */\n",
       "  background-color: var(--sklearn-color-unfitted-level-2);\n",
       "}\n",
       "\n",
       "#sk-container-id-1 div.sk-estimator.fitted:hover {\n",
       "  /* fitted */\n",
       "  background-color: var(--sklearn-color-fitted-level-2);\n",
       "}\n",
       "\n",
       "/* Specification for estimator info (e.g. \"i\" and \"?\") */\n",
       "\n",
       "/* Common style for \"i\" and \"?\" */\n",
       "\n",
       ".sk-estimator-doc-link,\n",
       "a:link.sk-estimator-doc-link,\n",
       "a:visited.sk-estimator-doc-link {\n",
       "  float: right;\n",
       "  font-size: smaller;\n",
       "  line-height: 1em;\n",
       "  font-family: monospace;\n",
       "  background-color: var(--sklearn-color-background);\n",
       "  border-radius: 1em;\n",
       "  height: 1em;\n",
       "  width: 1em;\n",
       "  text-decoration: none !important;\n",
       "  margin-left: 0.5em;\n",
       "  text-align: center;\n",
       "  /* unfitted */\n",
       "  border: var(--sklearn-color-unfitted-level-1) 1pt solid;\n",
       "  color: var(--sklearn-color-unfitted-level-1);\n",
       "}\n",
       "\n",
       ".sk-estimator-doc-link.fitted,\n",
       "a:link.sk-estimator-doc-link.fitted,\n",
       "a:visited.sk-estimator-doc-link.fitted {\n",
       "  /* fitted */\n",
       "  border: var(--sklearn-color-fitted-level-1) 1pt solid;\n",
       "  color: var(--sklearn-color-fitted-level-1);\n",
       "}\n",
       "\n",
       "/* On hover */\n",
       "div.sk-estimator:hover .sk-estimator-doc-link:hover,\n",
       ".sk-estimator-doc-link:hover,\n",
       "div.sk-label-container:hover .sk-estimator-doc-link:hover,\n",
       ".sk-estimator-doc-link:hover {\n",
       "  /* unfitted */\n",
       "  background-color: var(--sklearn-color-unfitted-level-3);\n",
       "  color: var(--sklearn-color-background);\n",
       "  text-decoration: none;\n",
       "}\n",
       "\n",
       "div.sk-estimator.fitted:hover .sk-estimator-doc-link.fitted:hover,\n",
       ".sk-estimator-doc-link.fitted:hover,\n",
       "div.sk-label-container:hover .sk-estimator-doc-link.fitted:hover,\n",
       ".sk-estimator-doc-link.fitted:hover {\n",
       "  /* fitted */\n",
       "  background-color: var(--sklearn-color-fitted-level-3);\n",
       "  color: var(--sklearn-color-background);\n",
       "  text-decoration: none;\n",
       "}\n",
       "\n",
       "/* Span, style for the box shown on hovering the info icon */\n",
       ".sk-estimator-doc-link span {\n",
       "  display: none;\n",
       "  z-index: 9999;\n",
       "  position: relative;\n",
       "  font-weight: normal;\n",
       "  right: .2ex;\n",
       "  padding: .5ex;\n",
       "  margin: .5ex;\n",
       "  width: min-content;\n",
       "  min-width: 20ex;\n",
       "  max-width: 50ex;\n",
       "  color: var(--sklearn-color-text);\n",
       "  box-shadow: 2pt 2pt 4pt #999;\n",
       "  /* unfitted */\n",
       "  background: var(--sklearn-color-unfitted-level-0);\n",
       "  border: .5pt solid var(--sklearn-color-unfitted-level-3);\n",
       "}\n",
       "\n",
       ".sk-estimator-doc-link.fitted span {\n",
       "  /* fitted */\n",
       "  background: var(--sklearn-color-fitted-level-0);\n",
       "  border: var(--sklearn-color-fitted-level-3);\n",
       "}\n",
       "\n",
       ".sk-estimator-doc-link:hover span {\n",
       "  display: block;\n",
       "}\n",
       "\n",
       "/* \"?\"-specific style due to the `<a>` HTML tag */\n",
       "\n",
       "#sk-container-id-1 a.estimator_doc_link {\n",
       "  float: right;\n",
       "  font-size: 1rem;\n",
       "  line-height: 1em;\n",
       "  font-family: monospace;\n",
       "  background-color: var(--sklearn-color-background);\n",
       "  border-radius: 1rem;\n",
       "  height: 1rem;\n",
       "  width: 1rem;\n",
       "  text-decoration: none;\n",
       "  /* unfitted */\n",
       "  color: var(--sklearn-color-unfitted-level-1);\n",
       "  border: var(--sklearn-color-unfitted-level-1) 1pt solid;\n",
       "}\n",
       "\n",
       "#sk-container-id-1 a.estimator_doc_link.fitted {\n",
       "  /* fitted */\n",
       "  border: var(--sklearn-color-fitted-level-1) 1pt solid;\n",
       "  color: var(--sklearn-color-fitted-level-1);\n",
       "}\n",
       "\n",
       "/* On hover */\n",
       "#sk-container-id-1 a.estimator_doc_link:hover {\n",
       "  /* unfitted */\n",
       "  background-color: var(--sklearn-color-unfitted-level-3);\n",
       "  color: var(--sklearn-color-background);\n",
       "  text-decoration: none;\n",
       "}\n",
       "\n",
       "#sk-container-id-1 a.estimator_doc_link.fitted:hover {\n",
       "  /* fitted */\n",
       "  background-color: var(--sklearn-color-fitted-level-3);\n",
       "}\n",
       "</style><div id=\"sk-container-id-1\" class=\"sk-top-container\"><div class=\"sk-text-repr-fallback\"><pre>DecisionTreeClassifier(max_depth=4, random_state=42)</pre><b>In a Jupyter environment, please rerun this cell to show the HTML representation or trust the notebook. <br />On GitHub, the HTML representation is unable to render, please try loading this page with nbviewer.org.</b></div><div class=\"sk-container\" hidden><div class=\"sk-item\"><div class=\"sk-estimator fitted sk-toggleable\"><input class=\"sk-toggleable__control sk-hidden--visually\" id=\"sk-estimator-id-1\" type=\"checkbox\" checked><label for=\"sk-estimator-id-1\" class=\"sk-toggleable__label fitted sk-toggleable__label-arrow\"><div><div>DecisionTreeClassifier</div></div><div><a class=\"sk-estimator-doc-link fitted\" rel=\"noreferrer\" target=\"_blank\" href=\"https://scikit-learn.org/1.6/modules/generated/sklearn.tree.DecisionTreeClassifier.html\">?<span>Documentation for DecisionTreeClassifier</span></a><span class=\"sk-estimator-doc-link fitted\">i<span>Fitted</span></span></div></label><div class=\"sk-toggleable__content fitted\"><pre>DecisionTreeClassifier(max_depth=4, random_state=42)</pre></div> </div></div></div></div>"
      ],
      "text/plain": [
       "DecisionTreeClassifier(max_depth=4, random_state=42)"
      ]
     },
     "execution_count": 37,
     "metadata": {},
     "output_type": "execute_result"
    }
   ],
   "source": [
    "clf = DecisionTreeClassifier(max_depth=4, random_state=42)\n",
    "clf.fit(X_train, y_train)"
   ]
  },
  {
   "cell_type": "code",
   "execution_count": 38,
   "id": "b450f358",
   "metadata": {},
   "outputs": [
    {
     "name": "stdout",
     "output_type": "stream",
     "text": [
      "              precision    recall  f1-score   support\n",
      "\n",
      "        High       1.00      0.92      0.96        12\n",
      "         Low       0.73      1.00      0.85        11\n",
      "      Medium       0.90      0.69      0.78        13\n",
      "\n",
      "    accuracy                           0.86        36\n",
      "   macro avg       0.88      0.87      0.86        36\n",
      "weighted avg       0.88      0.86      0.86        36\n",
      "\n"
     ]
    }
   ],
   "source": [
    "y_pred = clf.predict(X_test)\n",
    "print(classification_report(y_test, y_pred))"
   ]
  },
  {
   "cell_type": "code",
   "execution_count": 39,
   "id": "03ef6a5a",
   "metadata": {},
   "outputs": [
    {
     "data": {
      "image/png": "[encoded data removed]",
      "text/plain": [
       "<Figure size 1200x600 with 1 Axes>"
      ]
     },
     "metadata": {},
     "output_type": "display_data"
    }
   ],
   "source": [
    "# Plot generated tree\n",
    "plt.figure(figsize=(12, 6))\n",
    "plot_tree(clf, feature_names=X.columns, class_names=['Low', 'Medium', 'High'], filled=True)\n",
    "plt.title(\"Decision Tree Classifier: Predicting Success (According to Views)\")\n",
    "plt.show()"
   ]
  },
  {
   "cell_type": "code",
   "execution_count": null,
   "id": "d9da45e2",
   "metadata": {},
   "outputs": [],
   "source": []
  }
 ],
 "metadata": {
  "kernelspec": {
   "display_name": "Python 3",
   "language": "python",
   "name": "python3"
  },
  "language_info": {
   "codemirror_mode": {
    "name": "ipython",
    "version": 3
   },
   "file_extension": ".py",
   "mimetype": "text/x-python",
   "name": "python",
   "nbconvert_exporter": "python",
   "pygments_lexer": "ipython3",
   "version": "3.11.9"
  }
 },
 "nbformat": 4,
 "nbformat_minor": 5
}
